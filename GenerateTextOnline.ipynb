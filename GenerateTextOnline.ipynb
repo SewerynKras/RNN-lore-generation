{
  "nbformat": 4,
  "nbformat_minor": 0,
  "metadata": {
    "colab": {
      "name": "GenerateTextOnline.ipynb",
      "version": "0.3.2",
      "provenance": [],
      "collapsed_sections": [],
      "include_colab_link": true
    },
    "kernelspec": {
      "name": "python3",
      "display_name": "Python 3"
    },
    "accelerator": "GPU"
  },
  "cells": [
    {
      "cell_type": "markdown",
      "metadata": {
        "id": "view-in-github",
        "colab_type": "text"
      },
      "source": [
        "<a href=\"https://colab.research.google.com/github/SewerynKras/RNN-lore-generation/blob/master/GenerateTextOnline.ipynb\" target=\"_parent\"><img src=\"https://colab.research.google.com/assets/colab-badge.svg\" alt=\"Open In Colab\"/></a>"
      ]
    },
    {
      "metadata": {
        "id": "4tbxkEks7c1a",
        "colab_type": "code",
        "cellView": "form",
        "colab": {}
      },
      "cell_type": "code",
      "source": [
        "#@title <-- Press to set everything up\n",
        "%%capture\n",
        "!pip install tensorflow-gpu==2.0.0-alpha0\n",
        "import tensorflow as tf\n",
        "\n",
        "!git clone https://github.com/SewerynKras/RNN-lore-generation.git\n",
        "!mv 'RNN-lore-generation' 'lib'\n",
        "\n",
        "from lib.helpers import TextGenerator, TextVectorizer\n",
        "from lib.model import MyModel\n",
        "from IPython.display import HTML, display\n",
        "\n",
        "import pickle\n",
        "with open('lib/data/data_packed.pickle', 'rb') as f:\n",
        "    data_packed = pickle.load(f)\n",
        "\n",
        "categories = data_packed['downloaded'].keys()\n",
        "characters = data_packed['characters']\n",
        "cat_map = data_packed['category_map']\n",
        "cat2raw = {cat: raw for raw,cat in cat_map.items()}\n",
        "\n",
        "vectorizer = TextVectorizer(unique_characters=characters,\n",
        "                            categories=categories)\n",
        "\n",
        "model = MyModel(LSTM1_units=512, LSTM2_units=1024, output_size=len(characters))\n",
        "model.load_weights(\"lib/checkpoints/Nadam50.ckpt\")\n",
        "\n",
        "generator = TextGenerator(model, vectorizer)"
      ],
      "execution_count": 0,
      "outputs": []
    },
    {
      "metadata": {
        "id": "9mGpqweH6wX4",
        "colab_type": "code",
        "colab": {}
      },
      "cell_type": "code",
      "source": [
        "#@title <-- Press to confirm selection { run: \"auto\", display-mode: \"form\" }\n",
        "\n",
        "category = \"Ahamkara\"  #@param [\"Ahamkara\", \"Alpha Lupi\", \"Ana Bray\", \"Andal Brask\", \"Aphelion\", \"Ares One\", \"Asher Mir\", \"Ayane Takanome\", \"Battle of Twilight Gap\", \"Book: A Drifter's Gambit\", \"Book: Dawning Delights\", \"Book: Dust\", \"Book: Ecdysis\", \"Book: Eva's Journey\", \"Book: For Every Rose, a Thorn\", \"Book: Ghost Stories\", \"Book: Letters from a Renegade\", \"Book: Marasenna\", \"Book: Most Loyal\", \"Book: Stolen Intelligence\", \"Book: The Awoken of the Reef\", \"Book: The Black Armory Papers\", \"Book: The Book of Unmaking\", \"Book: The Dreaming City\", \"Book: The Forsaken Prince\", \"Book: The Lawless Frontier\", \"Book: The Man They Call Cayde\", \"Book: The Man With No Name\", \"Book: The Warlock Aunor\", \"Book: Truth to Power\", \"Book: Wall of Wishes\", \"Books of Sorrow\", \"CHASM\", \"Cayde-6\", \"Clovis Bray\", \"Court of Oryx\", \"Crows\", \"Deep Stone Crypt\", \"Dormant SIVA\", \"Dr. Shirazi\", \"Dredgen Yor\", \"Eliksni\", \"Emperor Calus\", \"Eriana-3\", \"Eris Morn\", \"Festival of the Lost 2015\", \"Festival of the Lost 2016\", \"Ghost Fragments\", \"Harbingers\", \"Holborn\", \"Ikora Rey\", \"Invitations of the Nine\", \"Ishtar Collective\", \"Jaren Ward\", \"Kabr\", \"Lady Efrideet\", \"Lady Jolder\", \"Lady Perun\", \"Lady Skorri\", \"Legends\", \"Lord Felwinter\", \"Lord Gheleon\", \"Lord Radegast\", \"Lord Saladin\", \"Lord Silimar\", \"Lord Timur\", \"Lords of Iron\", \"Lysander\", \"Malok\", \"Marcus Ren\", \"Maya Sundaresh\", \"Messages from Toland\", \"Mysteries\", \"Nokris\", \"Omar Agah\", \"Orin\", \"Oryx\", \"Osiris\", \"Pahanin\", \"Petra Venj\", \"Pilgrimages\", \"Praedyth\", \"Prince Uldren Sov\", \"Pujari\", \"Pulled Pork\", \"Queen Mara Sov\", \"Radiolaria\", \"Rasputin\", \"Redjacks\", \"Rezyl Azzir\", \"Riven\", \"SIVA.MEM\", \"Sai Mota\", \"Saint-14\", \"Shadows of Yor\", \"Shin Malphur\", \"Six Coyotes\", \"Six Fronts\", \"Sjur Eido\", \"Skolas\", \"Suraya Hawthorne\", \"Tevis Larsen\", \"The Bray Family\", \"The Consensus\", \"The Dawning\", \"The Drifter\", \"The Exo Stranger\", \"The First Crota fireteam\", \"The Fundament\", \"The Great Ahamkara Hunt\", \"The Logic of the Sword\", \"The Maraid\", \"The Nine\", \"The Sunbreakers\", \"The Transmission Crisis\", \"The Worm Gods\", \"Toland the Shattered\", \"Ulan-tan\", \"Variks\", \"Vell Tarlowe\", \"Warminds\", \"Wei Ning\", \"Whirlwind\", \"Zavala\"]\n",
        "start_text = 'O murderer mine, '  #@param {type:\"string\"}\n",
        "character_limit = 10000 #@param {type:\"integer\"}"
      ],
      "execution_count": 0,
      "outputs": []
    },
    {
      "metadata": {
        "id": "55wZtSIS_g41",
        "colab_type": "code",
        "cellView": "form",
        "colab": {}
      },
      "cell_type": "code",
      "source": [
        "#@title <-- Press to start/stop generating\n",
        "\n",
        "def getHTML(text):\n",
        "    return HTML(\"\"\"\n",
        "            <b> Generated text: </b>\n",
        "            <div style='max-width: 100%;'>{text}</div>\n",
        "            \"\"\".format(text=text))\n",
        "\n",
        "output = display(getHTML(start_text), display_id=True)\n",
        "try:\n",
        "    for char in generator.generate(start_text, cat2raw[category], char_limit=character_limit):\n",
        "        start_text += char\n",
        "        output.update(getHTML(start_text))\n",
        "except KeyboardInterrupt:\n",
        "    pass"
      ],
      "execution_count": 0,
      "outputs": []
    }
  ]
}