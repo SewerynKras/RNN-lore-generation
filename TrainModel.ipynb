{
 "cells": [
  {
   "cell_type": "code",
   "execution_count": 1,
   "metadata": {},
   "outputs": [],
   "source": [
    "import pickle\n",
    "import numpy as np\n",
    "import os\n",
    "from time import time\n",
    "from helpers import TextVectorizer\n",
    "from model import MyModel\n",
    "import json"
   ]
  },
  {
   "cell_type": "code",
   "execution_count": 2,
   "metadata": {},
   "outputs": [
    {
     "data": {
      "text/html": [
       "\n",
       "    <div class=\"bk-root\">\n",
       "        <a href=\"https://bokeh.pydata.org\" target=\"_blank\" class=\"bk-logo bk-logo-small bk-logo-notebook\"></a>\n",
       "        <span id=\"1001\">Loading BokehJS ...</span>\n",
       "    </div>"
      ]
     },
     "metadata": {},
     "output_type": "display_data"
    },
    {
     "data": {
      "application/javascript": [
       "\n",
       "(function(root) {\n",
       "  function now() {\n",
       "    return new Date();\n",
       "  }\n",
       "\n",
       "  var force = true;\n",
       "\n",
       "  if (typeof (root._bokeh_onload_callbacks) === \"undefined\" || force === true) {\n",
       "    root._bokeh_onload_callbacks = [];\n",
       "    root._bokeh_is_loading = undefined;\n",
       "  }\n",
       "\n",
       "  var JS_MIME_TYPE = 'application/javascript';\n",
       "  var HTML_MIME_TYPE = 'text/html';\n",
       "  var EXEC_MIME_TYPE = 'application/vnd.bokehjs_exec.v0+json';\n",
       "  var CLASS_NAME = 'output_bokeh rendered_html';\n",
       "\n",
       "  /**\n",
       "   * Render data to the DOM node\n",
       "   */\n",
       "  function render(props, node) {\n",
       "    var script = document.createElement(\"script\");\n",
       "    node.appendChild(script);\n",
       "  }\n",
       "\n",
       "  /**\n",
       "   * Handle when an output is cleared or removed\n",
       "   */\n",
       "  function handleClearOutput(event, handle) {\n",
       "    var cell = handle.cell;\n",
       "\n",
       "    var id = cell.output_area._bokeh_element_id;\n",
       "    var server_id = cell.output_area._bokeh_server_id;\n",
       "    // Clean up Bokeh references\n",
       "    if (id != null && id in Bokeh.index) {\n",
       "      Bokeh.index[id].model.document.clear();\n",
       "      delete Bokeh.index[id];\n",
       "    }\n",
       "\n",
       "    if (server_id !== undefined) {\n",
       "      // Clean up Bokeh references\n",
       "      var cmd = \"from bokeh.io.state import curstate; print(curstate().uuid_to_server['\" + server_id + \"'].get_sessions()[0].document.roots[0]._id)\";\n",
       "      cell.notebook.kernel.execute(cmd, {\n",
       "        iopub: {\n",
       "          output: function(msg) {\n",
       "            var id = msg.content.text.trim();\n",
       "            if (id in Bokeh.index) {\n",
       "              Bokeh.index[id].model.document.clear();\n",
       "              delete Bokeh.index[id];\n",
       "            }\n",
       "          }\n",
       "        }\n",
       "      });\n",
       "      // Destroy server and session\n",
       "      var cmd = \"import bokeh.io.notebook as ion; ion.destroy_server('\" + server_id + \"')\";\n",
       "      cell.notebook.kernel.execute(cmd);\n",
       "    }\n",
       "  }\n",
       "\n",
       "  /**\n",
       "   * Handle when a new output is added\n",
       "   */\n",
       "  function handleAddOutput(event, handle) {\n",
       "    var output_area = handle.output_area;\n",
       "    var output = handle.output;\n",
       "\n",
       "    // limit handleAddOutput to display_data with EXEC_MIME_TYPE content only\n",
       "    if ((output.output_type != \"display_data\") || (!output.data.hasOwnProperty(EXEC_MIME_TYPE))) {\n",
       "      return\n",
       "    }\n",
       "\n",
       "    var toinsert = output_area.element.find(\".\" + CLASS_NAME.split(' ')[0]);\n",
       "\n",
       "    if (output.metadata[EXEC_MIME_TYPE][\"id\"] !== undefined) {\n",
       "      toinsert[toinsert.length - 1].firstChild.textContent = output.data[JS_MIME_TYPE];\n",
       "      // store reference to embed id on output_area\n",
       "      output_area._bokeh_element_id = output.metadata[EXEC_MIME_TYPE][\"id\"];\n",
       "    }\n",
       "    if (output.metadata[EXEC_MIME_TYPE][\"server_id\"] !== undefined) {\n",
       "      var bk_div = document.createElement(\"div\");\n",
       "      bk_div.innerHTML = output.data[HTML_MIME_TYPE];\n",
       "      var script_attrs = bk_div.children[0].attributes;\n",
       "      for (var i = 0; i < script_attrs.length; i++) {\n",
       "        toinsert[toinsert.length - 1].firstChild.setAttribute(script_attrs[i].name, script_attrs[i].value);\n",
       "      }\n",
       "      // store reference to server id on output_area\n",
       "      output_area._bokeh_server_id = output.metadata[EXEC_MIME_TYPE][\"server_id\"];\n",
       "    }\n",
       "  }\n",
       "\n",
       "  function register_renderer(events, OutputArea) {\n",
       "\n",
       "    function append_mime(data, metadata, element) {\n",
       "      // create a DOM node to render to\n",
       "      var toinsert = this.create_output_subarea(\n",
       "        metadata,\n",
       "        CLASS_NAME,\n",
       "        EXEC_MIME_TYPE\n",
       "      );\n",
       "      this.keyboard_manager.register_events(toinsert);\n",
       "      // Render to node\n",
       "      var props = {data: data, metadata: metadata[EXEC_MIME_TYPE]};\n",
       "      render(props, toinsert[toinsert.length - 1]);\n",
       "      element.append(toinsert);\n",
       "      return toinsert\n",
       "    }\n",
       "\n",
       "    /* Handle when an output is cleared or removed */\n",
       "    events.on('clear_output.CodeCell', handleClearOutput);\n",
       "    events.on('delete.Cell', handleClearOutput);\n",
       "\n",
       "    /* Handle when a new output is added */\n",
       "    events.on('output_added.OutputArea', handleAddOutput);\n",
       "\n",
       "    /**\n",
       "     * Register the mime type and append_mime function with output_area\n",
       "     */\n",
       "    OutputArea.prototype.register_mime_type(EXEC_MIME_TYPE, append_mime, {\n",
       "      /* Is output safe? */\n",
       "      safe: true,\n",
       "      /* Index of renderer in `output_area.display_order` */\n",
       "      index: 0\n",
       "    });\n",
       "  }\n",
       "\n",
       "  // register the mime type if in Jupyter Notebook environment and previously unregistered\n",
       "  if (root.Jupyter !== undefined) {\n",
       "    var events = require('base/js/events');\n",
       "    var OutputArea = require('notebook/js/outputarea').OutputArea;\n",
       "\n",
       "    if (OutputArea.prototype.mime_types().indexOf(EXEC_MIME_TYPE) == -1) {\n",
       "      register_renderer(events, OutputArea);\n",
       "    }\n",
       "  }\n",
       "\n",
       "  \n",
       "  if (typeof (root._bokeh_timeout) === \"undefined\" || force === true) {\n",
       "    root._bokeh_timeout = Date.now() + 5000;\n",
       "    root._bokeh_failed_load = false;\n",
       "  }\n",
       "\n",
       "  var NB_LOAD_WARNING = {'data': {'text/html':\n",
       "     \"<div style='background-color: #fdd'>\\n\"+\n",
       "     \"<p>\\n\"+\n",
       "     \"BokehJS does not appear to have successfully loaded. If loading BokehJS from CDN, this \\n\"+\n",
       "     \"may be due to a slow or bad network connection. Possible fixes:\\n\"+\n",
       "     \"</p>\\n\"+\n",
       "     \"<ul>\\n\"+\n",
       "     \"<li>re-rerun `output_notebook()` to attempt to load from CDN again, or</li>\\n\"+\n",
       "     \"<li>use INLINE resources instead, as so:</li>\\n\"+\n",
       "     \"</ul>\\n\"+\n",
       "     \"<code>\\n\"+\n",
       "     \"from bokeh.resources import INLINE\\n\"+\n",
       "     \"output_notebook(resources=INLINE)\\n\"+\n",
       "     \"</code>\\n\"+\n",
       "     \"</div>\"}};\n",
       "\n",
       "  function display_loaded() {\n",
       "    var el = document.getElementById(\"1001\");\n",
       "    if (el != null) {\n",
       "      el.textContent = \"BokehJS is loading...\";\n",
       "    }\n",
       "    if (root.Bokeh !== undefined) {\n",
       "      if (el != null) {\n",
       "        el.textContent = \"BokehJS \" + root.Bokeh.version + \" successfully loaded.\";\n",
       "      }\n",
       "    } else if (Date.now() < root._bokeh_timeout) {\n",
       "      setTimeout(display_loaded, 100)\n",
       "    }\n",
       "  }\n",
       "\n",
       "\n",
       "  function run_callbacks() {\n",
       "    try {\n",
       "      root._bokeh_onload_callbacks.forEach(function(callback) { callback() });\n",
       "    }\n",
       "    finally {\n",
       "      delete root._bokeh_onload_callbacks\n",
       "    }\n",
       "    console.info(\"Bokeh: all callbacks have finished\");\n",
       "  }\n",
       "\n",
       "  function load_libs(js_urls, callback) {\n",
       "    root._bokeh_onload_callbacks.push(callback);\n",
       "    if (root._bokeh_is_loading > 0) {\n",
       "      console.log(\"Bokeh: BokehJS is being loaded, scheduling callback at\", now());\n",
       "      return null;\n",
       "    }\n",
       "    if (js_urls == null || js_urls.length === 0) {\n",
       "      run_callbacks();\n",
       "      return null;\n",
       "    }\n",
       "    console.log(\"Bokeh: BokehJS not loaded, scheduling load and callback at\", now());\n",
       "    root._bokeh_is_loading = js_urls.length;\n",
       "    for (var i = 0; i < js_urls.length; i++) {\n",
       "      var url = js_urls[i];\n",
       "      var s = document.createElement('script');\n",
       "      s.src = url;\n",
       "      s.async = false;\n",
       "      s.onreadystatechange = s.onload = function() {\n",
       "        root._bokeh_is_loading--;\n",
       "        if (root._bokeh_is_loading === 0) {\n",
       "          console.log(\"Bokeh: all BokehJS libraries loaded\");\n",
       "          run_callbacks()\n",
       "        }\n",
       "      };\n",
       "      s.onerror = function() {\n",
       "        console.warn(\"failed to load library \" + url);\n",
       "      };\n",
       "      console.log(\"Bokeh: injecting script tag for BokehJS library: \", url);\n",
       "      document.getElementsByTagName(\"head\")[0].appendChild(s);\n",
       "    }\n",
       "  };var element = document.getElementById(\"1001\");\n",
       "  if (element == null) {\n",
       "    console.log(\"Bokeh: ERROR: autoload.js configured with elementid '1001' but no matching script tag was found. \")\n",
       "    return false;\n",
       "  }\n",
       "\n",
       "  var js_urls = [\"https://cdn.pydata.org/bokeh/release/bokeh-1.0.1.min.js\", \"https://cdn.pydata.org/bokeh/release/bokeh-widgets-1.0.1.min.js\", \"https://cdn.pydata.org/bokeh/release/bokeh-tables-1.0.1.min.js\", \"https://cdn.pydata.org/bokeh/release/bokeh-gl-1.0.1.min.js\"];\n",
       "\n",
       "  var inline_js = [\n",
       "    function(Bokeh) {\n",
       "      Bokeh.set_log_level(\"info\");\n",
       "    },\n",
       "    \n",
       "    function(Bokeh) {\n",
       "      \n",
       "    },\n",
       "    function(Bokeh) {\n",
       "      console.log(\"Bokeh: injecting CSS: https://cdn.pydata.org/bokeh/release/bokeh-1.0.1.min.css\");\n",
       "      Bokeh.embed.inject_css(\"https://cdn.pydata.org/bokeh/release/bokeh-1.0.1.min.css\");\n",
       "      console.log(\"Bokeh: injecting CSS: https://cdn.pydata.org/bokeh/release/bokeh-widgets-1.0.1.min.css\");\n",
       "      Bokeh.embed.inject_css(\"https://cdn.pydata.org/bokeh/release/bokeh-widgets-1.0.1.min.css\");\n",
       "      console.log(\"Bokeh: injecting CSS: https://cdn.pydata.org/bokeh/release/bokeh-tables-1.0.1.min.css\");\n",
       "      Bokeh.embed.inject_css(\"https://cdn.pydata.org/bokeh/release/bokeh-tables-1.0.1.min.css\");\n",
       "    }\n",
       "  ];\n",
       "\n",
       "  function run_inline_js() {\n",
       "    \n",
       "    if ((root.Bokeh !== undefined) || (force === true)) {\n",
       "      for (var i = 0; i < inline_js.length; i++) {\n",
       "        inline_js[i].call(root, root.Bokeh);\n",
       "      }if (force === true) {\n",
       "        display_loaded();\n",
       "      }} else if (Date.now() < root._bokeh_timeout) {\n",
       "      setTimeout(run_inline_js, 100);\n",
       "    } else if (!root._bokeh_failed_load) {\n",
       "      console.log(\"Bokeh: BokehJS failed to load within specified timeout.\");\n",
       "      root._bokeh_failed_load = true;\n",
       "    } else if (force !== true) {\n",
       "      var cell = $(document.getElementById(\"1001\")).parents('.cell').data().cell;\n",
       "      cell.output_area.append_execute_result(NB_LOAD_WARNING)\n",
       "    }\n",
       "\n",
       "  }\n",
       "\n",
       "  if (root._bokeh_is_loading === 0) {\n",
       "    console.log(\"Bokeh: BokehJS loaded, going straight to plotting\");\n",
       "    run_inline_js();\n",
       "  } else {\n",
       "    load_libs(js_urls, function() {\n",
       "      console.log(\"Bokeh: BokehJS plotting callback run at\", now());\n",
       "      run_inline_js();\n",
       "    });\n",
       "  }\n",
       "}(window));"
      ],
      "application/vnd.bokehjs_load.v0+json": "\n(function(root) {\n  function now() {\n    return new Date();\n  }\n\n  var force = true;\n\n  if (typeof (root._bokeh_onload_callbacks) === \"undefined\" || force === true) {\n    root._bokeh_onload_callbacks = [];\n    root._bokeh_is_loading = undefined;\n  }\n\n  \n\n  \n  if (typeof (root._bokeh_timeout) === \"undefined\" || force === true) {\n    root._bokeh_timeout = Date.now() + 5000;\n    root._bokeh_failed_load = false;\n  }\n\n  var NB_LOAD_WARNING = {'data': {'text/html':\n     \"<div style='background-color: #fdd'>\\n\"+\n     \"<p>\\n\"+\n     \"BokehJS does not appear to have successfully loaded. If loading BokehJS from CDN, this \\n\"+\n     \"may be due to a slow or bad network connection. Possible fixes:\\n\"+\n     \"</p>\\n\"+\n     \"<ul>\\n\"+\n     \"<li>re-rerun `output_notebook()` to attempt to load from CDN again, or</li>\\n\"+\n     \"<li>use INLINE resources instead, as so:</li>\\n\"+\n     \"</ul>\\n\"+\n     \"<code>\\n\"+\n     \"from bokeh.resources import INLINE\\n\"+\n     \"output_notebook(resources=INLINE)\\n\"+\n     \"</code>\\n\"+\n     \"</div>\"}};\n\n  function display_loaded() {\n    var el = document.getElementById(\"1001\");\n    if (el != null) {\n      el.textContent = \"BokehJS is loading...\";\n    }\n    if (root.Bokeh !== undefined) {\n      if (el != null) {\n        el.textContent = \"BokehJS \" + root.Bokeh.version + \" successfully loaded.\";\n      }\n    } else if (Date.now() < root._bokeh_timeout) {\n      setTimeout(display_loaded, 100)\n    }\n  }\n\n\n  function run_callbacks() {\n    try {\n      root._bokeh_onload_callbacks.forEach(function(callback) { callback() });\n    }\n    finally {\n      delete root._bokeh_onload_callbacks\n    }\n    console.info(\"Bokeh: all callbacks have finished\");\n  }\n\n  function load_libs(js_urls, callback) {\n    root._bokeh_onload_callbacks.push(callback);\n    if (root._bokeh_is_loading > 0) {\n      console.log(\"Bokeh: BokehJS is being loaded, scheduling callback at\", now());\n      return null;\n    }\n    if (js_urls == null || js_urls.length === 0) {\n      run_callbacks();\n      return null;\n    }\n    console.log(\"Bokeh: BokehJS not loaded, scheduling load and callback at\", now());\n    root._bokeh_is_loading = js_urls.length;\n    for (var i = 0; i < js_urls.length; i++) {\n      var url = js_urls[i];\n      var s = document.createElement('script');\n      s.src = url;\n      s.async = false;\n      s.onreadystatechange = s.onload = function() {\n        root._bokeh_is_loading--;\n        if (root._bokeh_is_loading === 0) {\n          console.log(\"Bokeh: all BokehJS libraries loaded\");\n          run_callbacks()\n        }\n      };\n      s.onerror = function() {\n        console.warn(\"failed to load library \" + url);\n      };\n      console.log(\"Bokeh: injecting script tag for BokehJS library: \", url);\n      document.getElementsByTagName(\"head\")[0].appendChild(s);\n    }\n  };var element = document.getElementById(\"1001\");\n  if (element == null) {\n    console.log(\"Bokeh: ERROR: autoload.js configured with elementid '1001' but no matching script tag was found. \")\n    return false;\n  }\n\n  var js_urls = [\"https://cdn.pydata.org/bokeh/release/bokeh-1.0.1.min.js\", \"https://cdn.pydata.org/bokeh/release/bokeh-widgets-1.0.1.min.js\", \"https://cdn.pydata.org/bokeh/release/bokeh-tables-1.0.1.min.js\", \"https://cdn.pydata.org/bokeh/release/bokeh-gl-1.0.1.min.js\"];\n\n  var inline_js = [\n    function(Bokeh) {\n      Bokeh.set_log_level(\"info\");\n    },\n    \n    function(Bokeh) {\n      \n    },\n    function(Bokeh) {\n      console.log(\"Bokeh: injecting CSS: https://cdn.pydata.org/bokeh/release/bokeh-1.0.1.min.css\");\n      Bokeh.embed.inject_css(\"https://cdn.pydata.org/bokeh/release/bokeh-1.0.1.min.css\");\n      console.log(\"Bokeh: injecting CSS: https://cdn.pydata.org/bokeh/release/bokeh-widgets-1.0.1.min.css\");\n      Bokeh.embed.inject_css(\"https://cdn.pydata.org/bokeh/release/bokeh-widgets-1.0.1.min.css\");\n      console.log(\"Bokeh: injecting CSS: https://cdn.pydata.org/bokeh/release/bokeh-tables-1.0.1.min.css\");\n      Bokeh.embed.inject_css(\"https://cdn.pydata.org/bokeh/release/bokeh-tables-1.0.1.min.css\");\n    }\n  ];\n\n  function run_inline_js() {\n    \n    if ((root.Bokeh !== undefined) || (force === true)) {\n      for (var i = 0; i < inline_js.length; i++) {\n        inline_js[i].call(root, root.Bokeh);\n      }if (force === true) {\n        display_loaded();\n      }} else if (Date.now() < root._bokeh_timeout) {\n      setTimeout(run_inline_js, 100);\n    } else if (!root._bokeh_failed_load) {\n      console.log(\"Bokeh: BokehJS failed to load within specified timeout.\");\n      root._bokeh_failed_load = true;\n    } else if (force !== true) {\n      var cell = $(document.getElementById(\"1001\")).parents('.cell').data().cell;\n      cell.output_area.append_execute_result(NB_LOAD_WARNING)\n    }\n\n  }\n\n  if (root._bokeh_is_loading === 0) {\n    console.log(\"Bokeh: BokehJS loaded, going straight to plotting\");\n    run_inline_js();\n  } else {\n    load_libs(js_urls, function() {\n      console.log(\"Bokeh: BokehJS plotting callback run at\", now());\n      run_inline_js();\n    });\n  }\n}(window));"
     },
     "metadata": {},
     "output_type": "display_data"
    }
   ],
   "source": [
    "from bokeh.plotting import figure\n",
    "from bokeh.io import show, output_notebook\n",
    "output_notebook()"
   ]
  },
  {
   "cell_type": "code",
   "execution_count": 3,
   "metadata": {},
   "outputs": [],
   "source": [
    "!pip install -q tensorflow-gpu==2.0.0-alpha0\n",
    "import tensorflow as tf"
   ]
  },
  {
   "cell_type": "code",
   "execution_count": 4,
   "metadata": {},
   "outputs": [
    {
     "name": "stdout",
     "output_type": "stream",
     "text": [
      "Tensorflow version:  2.0.0-alpha0\n"
     ]
    }
   ],
   "source": [
    "print(\"Tensorflow version: \", tf.__version__)"
   ]
  },
  {
   "cell_type": "markdown",
   "metadata": {},
   "source": [
    "---\n",
    "Data loading\n",
    "---"
   ]
  },
  {
   "cell_type": "code",
   "execution_count": 5,
   "metadata": {},
   "outputs": [],
   "source": [
    "with open('data/default_categories.json', 'r') as f:\n",
    "    categories = json.load(f)\n",
    "with open('data/default_characters.json', 'r') as f:\n",
    "    characters = json.load(f)\n",
    "with open('data/dataset.pickle', 'rb') as f:\n",
    "    dataset = pickle.load(f)"
   ]
  },
  {
   "cell_type": "code",
   "execution_count": 6,
   "metadata": {},
   "outputs": [
    {
     "name": "stdout",
     "output_type": "stream",
     "text": [
      "Categroies: 119\n",
      "Characters: 83\n"
     ]
    }
   ],
   "source": [
    "print(f\"Categroies: {len(categories)}\")\n",
    "print(f\"Characters: {len(characters)}\")"
   ]
  },
  {
   "cell_type": "code",
   "execution_count": 7,
   "metadata": {},
   "outputs": [],
   "source": [
    "vectorizer = TextVectorizer(characters, categories)"
   ]
  },
  {
   "cell_type": "markdown",
   "metadata": {},
   "source": [
    "---\n",
    "Global variables\n",
    "---"
   ]
  },
  {
   "cell_type": "code",
   "execution_count": 8,
   "metadata": {},
   "outputs": [],
   "source": [
    "SEQUENCE_SIZE = 256\n",
    "BATCH_SIZE = 128\n",
    "\n",
    "LSTM1_SIZE = 256\n",
    "LSTM2_SIZE = 1024\n",
    "\n",
    "DEVICE = tf.device(\"/device:GPU:0\")"
   ]
  },
  {
   "cell_type": "markdown",
   "metadata": {},
   "source": [
    "---\n",
    "Data preprocessing\n",
    "---"
   ]
  },
  {
   "cell_type": "code",
   "execution_count": 9,
   "metadata": {},
   "outputs": [],
   "source": [
    "arr_dataset = []\n",
    "for category in categories:\n",
    "    for datapoint in dataset[category]:\n",
    "        item = vectorizer.text_to_array(text=datapoint, category=category)\n",
    "        arr_dataset.append(item)\n",
    "arr_dataset = np.array(arr_dataset)"
   ]
  },
  {
   "cell_type": "code",
   "execution_count": 10,
   "metadata": {},
   "outputs": [],
   "source": [
    "# Now each datapoint is a numpy array of shape (len(text), len(characters))"
   ]
  },
  {
   "cell_type": "code",
   "execution_count": 11,
   "metadata": {},
   "outputs": [],
   "source": [
    "def embed_data(data):\n",
    "    \"\"\"\n",
    "    Equalizes the length of each sequence is the given data\n",
    "    by appending \"␃\" at the end of shorter entries\n",
    "    \"\"\"\n",
    "    ans = []\n",
    "    max_len = max([len(i) for i in data])\n",
    "    for point in data:\n",
    "        ans.append(vectorizer.repeat_last(point, target_len=max_len))\n",
    "    return np.array(ans)"
   ]
  },
  {
   "cell_type": "code",
   "execution_count": 12,
   "metadata": {},
   "outputs": [
    {
     "data": {
      "text/plain": [
       "'Gheleon wears three knives. Their names are Swiftling, Occam, Quietus. They did much of the work at Black Lona, in silence and at speed.\\nBetween the roots of the ash tree that covers his den, Gheleon has stacked the Fallen bones collected from that one-night operation. The scavenged pieces of an Ahamkara, several jumbled coyote skeletons, and a fossil mastodon skull are mixed in with them. The bones are scorched and battered from the various grenades, bullets, and hammers he\\'s taken to them. He keeps extensive notes on these stress tests in a tattered notebook with \"Field Armor Experiments\" scrawled on its cover. So far, though, he hasn\\'t tried his knives on these materials. Between bones, in the joints and gaps, certainly, but not on them.\\nGheleon flips Swiftling and catches it by the haft. He throws it, a single smooth motion, and it shatters a Fallen tibia.\\nHe flips Occam and throws it. The knife clatters off an Ahamkara vertebra.\\nHe flips Quietus and-\\n\"Shanks and pikes, Efrideet!\"\\n\"Ooh, that\\'s the last yip it\\'s yipped,\" she says, picking up the coyote jaw that Quietus impaled. \"Helmet, would you say?\"\\n\"Too brittle. Etherbone\\'s better. Flexes.\"\\nThe others follow her in, wrinkling their noses. Usually they avoid his dim and earth-smelling den. Their presence suggests that Felwinter is doing something unpleasant, probably involving screams.\\n\"Bone?\" Saladin says. \"Not carbon bronze? Not plasteel?\"\\n\"Bone\\'s always available as a last resort. Nothing else is.\"\\n\"This is doomsday thinking,\" Jolder says, kicking aside fragments of bone. \"We have your back. Our plate is strong. When\\'ll you need scavenged armor?\"\\n\"If all of you were cut down around me, your Light drained past return, and my own armor was shredded. F\\'r instance.\"\\nThere is a long silence.\\n\"You always know what to say to make us feel better,\" Efrideet says.\\n\"I could hide under your bodies until the threat left. Then I\\'d make a helmet from all your skulls and a breastplate from your ribs and gloves from your finger bones wrapped around mine.\"\\nThere is a longer silence.␃␃␃␃␃␃␃␃␃␃␃␃␃␃␃␃␃␃␃␃␃␃␃␃␃␃␃␃␃␃␃␃␃␃␃␃␃␃␃␃␃␃␃␃␃␃␃␃␃␃␃␃␃␃␃␃␃␃␃␃␃␃␃␃␃␃␃␃␃␃␃␃␃␃␃␃␃␃␃␃␃␃␃␃␃␃␃␃␃␃␃␃␃␃␃␃␃␃␃␃␃␃␃␃␃␃␃␃␃␃␃␃␃␃␃␃␃␃␃␃␃␃␃␃␃␃␃␃␃␃␃␃␃␃␃␃␃␃␃␃␃␃␃␃␃␃␃␃␃␃␃␃␃␃␃␃␃␃␃␃␃␃␃␃␃␃␃␃␃␃␃␃␃␃␃␃␃␃␃␃␃␃␃␃␃␃␃␃␃␃␃␃␃␃␃␃␃␃␃␃␃␃␃␃␃␃␃␃␃␃␃␃␃␃␃␃␃␃␃␃␃␃␃␃␃␃␃␃␃␃␃␃␃␃␃␃␃␃␃␃␃␃␃␃␃␃␃␃␃␃␃␃␃␃␃␃␃␃␃␃␃␃␃␃␃␃␃␃␃␃␃␃␃␃␃␃␃␃␃␃␃␃␃␃␃␃␃␃␃␃␃␃␃␃␃␃␃␃␃␃␃␃␃␃␃␃␃␃␃␃␃␃␃␃␃␃␃␃␃␃␃␃␃␃␃␃␃␃␃␃␃␃␃␃␃␃␃␃␃␃␃␃␃␃␃␃␃␃␃␃␃␃␃␃␃␃␃␃␃␃␃␃␃␃␃␃␃␃␃␃␃␃␃␃␃␃␃␃␃␃␃␃␃␃␃␃␃␃␃␃␃␃␃␃␃␃␃␃␃␃␃␃␃␃␃␃␃␃␃␃␃␃␃␃␃␃␃␃␃␃␃␃␃␃␃␃␃␃␃␃␃␃␃␃␃␃␃␃␃␃␃␃␃␃␃␃␃␃␃␃␃␃␃␃␃␃␃␃␃␃␃␃␃␃␃␃␃␃␃␃␃␃␃␃␃␃␃␃␃␃␃␃␃␃␃␃␃␃␃␃␃␃␃␃␃␃␃␃␃␃␃␃␃␃␃␃␃␃␃␃␃␃␃␃␃␃␃␃␃␃␃␃␃␃␃␃␃␃␃␃␃␃␃␃␃␃␃␃␃␃␃␃␃␃␃␃␃␃␃␃␃␃␃␃␃␃␃␃␃␃␃␃␃␃␃␃␃␃␃␃␃␃␃␃␃␃␃␃␃␃␃␃␃␃␃␃␃␃␃␃␃␃␃␃␃␃␃␃␃␃␃␃␃␃␃␃␃␃␃␃␃␃␃␃␃␃␃␃␃␃␃␃␃␃␃␃␃␃␃␃␃␃␃␃␃␃␃␃␃␃␃␃␃␃␃␃␃␃␃␃␃␃␃␃␃␃␃␃␃␃␃␃␃␃␃␃␃␃␃␃␃␃␃␃␃␃␃␃␃␃␃␃␃␃␃␃␃␃␃␃␃␃␃␃␃␃␃␃␃␃␃␃␃␃␃␃␃␃␃␃␃␃␃␃␃␃␃␃␃␃␃␃␃␃␃␃␃␃␃␃␃␃␃␃␃␃␃␃␃␃␃␃␃␃␃␃␃␃␃␃␃␃␃␃␃␃␃␃␃␃␃␃␃␃␃␃␃␃␃␃␃␃␃␃␃␃␃␃␃␃␃␃␃␃␃␃␃␃␃␃␃␃␃␃␃␃␃␃␃␃␃␃␃␃␃␃␃␃␃␃␃␃␃␃␃␃␃␃␃␃␃␃␃␃␃␃␃␃␃␃␃␃␃␃␃␃␃␃␃␃␃␃␃␃␃␃␃␃␃␃␃␃␃␃␃␃␃␃␃␃␃␃␃␃␃␃␃␃␃␃␃␃␃␃␃␃␃␃␃␃␃␃␃␃␃␃␃␃␃␃␃␃␃␃␃␃␃␃␃␃␃␃␃␃␃␃␃␃␃␃␃␃␃␃␃␃␃␃␃␃␃␃␃␃␃␃␃␃␃␃␃␃␃␃␃␃␃␃␃␃␃␃␃␃␃␃␃␃␃␃␃␃␃␃␃␃␃␃␃␃␃␃␃␃␃␃␃␃␃␃␃␃␃␃␃␃␃␃␃␃␃␃␃␃␃␃␃␃␃␃␃␃␃␃␃␃␃␃␃␃␃␃␃␃␃␃␃␃␃␃␃␃␃␃␃␃␃␃␃␃␃␃␃␃␃␃␃␃␃␃␃␃␃␃␃␃␃␃␃␃␃␃␃␃␃␃␃␃␃␃␃␃␃␃␃␃␃␃␃␃␃␃␃␃␃␃␃␃␃␃␃␃␃␃␃␃␃␃␃␃␃␃␃␃␃␃␃␃␃␃␃␃␃␃␃␃␃␃␃␃␃␃␃␃␃␃␃␃␃␃␃␃␃␃␃␃␃␃␃␃␃␃␃␃␃␃␃␃␃␃␃␃␃␃␃␃␃␃␃␃␃␃␃␃␃␃␃␃␃␃␃␃␃␃␃␃␃␃␃␃␃␃␃␃␃␃␃␃␃␃␃␃␃␃␃␃␃␃␃␃␃␃␃␃␃␃␃␃␃␃␃␃␃␃␃␃␃␃␃␃␃␃␃␃␃␃␃␃␃␃␃␃␃␃␃␃␃␃␃␃␃␃␃␃␃␃␃␃␃␃␃␃␃␃␃␃␃␃␃␃␃␃␃␃␃␃␃␃␃␃␃␃␃␃␃␃␃␃␃␃␃␃␃␃␃␃␃␃␃␃␃␃␃␃␃␃␃␃␃␃␃␃␃␃␃␃␃␃␃␃␃␃␃␃␃␃␃␃␃␃␃␃␃␃␃␃␃␃␃␃␃␃␃␃␃␃␃␃␃␃␃␃␃␃␃␃␃␃␃␃␃␃␃␃␃␃␃␃␃␃␃␃␃␃␃␃␃␃␃␃␃␃␃␃␃␃␃␃␃␃␃␃␃␃␃␃␃␃␃␃␃␃␃␃␃␃␃␃␃␃␃␃␃␃␃␃␃␃␃␃␃␃␃␃␃␃␃␃␃␃␃␃␃␃␃␃␃␃␃␃␃␃␃␃␃␃␃␃␃␃␃␃␃␃␃␃␃␃␃␃␃␃␃␃␃␃␃␃␃␃␃␃␃␃␃␃␃␃␃␃␃␃␃␃␃␃␃␃␃␃␃␃␃␃␃␃␃␃␃␃␃␃␃␃␃␃␃␃␃␃␃␃␃␃␃␃␃␃␃␃␃␃␃␃␃␃␃␃␃␃␃␃␃␃␃␃␃␃␃␃␃␃␃␃␃␃␃␃␃␃␃␃␃␃␃␃␃␃␃␃␃␃␃␃␃␃␃'"
      ]
     },
     "execution_count": 12,
     "metadata": {},
     "output_type": "execute_result"
    }
   ],
   "source": [
    "# Example embedded datapoint\n",
    "vectorizer.array_to_text(embed_data(arr_dataset[:10])[3])"
   ]
  },
  {
   "cell_type": "markdown",
   "metadata": {},
   "source": [
    "\n",
    "---\n",
    "Model definition\n",
    "---"
   ]
  },
  {
   "cell_type": "code",
   "execution_count": 13,
   "metadata": {},
   "outputs": [
    {
     "name": "stderr",
     "output_type": "stream",
     "text": [
      "WARNING: Logging before flag parsing goes to stderr.\n",
      "W0428 23:57:00.889606 13956 tf_logging.py:161] <tensorflow.python.keras.layers.recurrent.UnifiedLSTM object at 0x000001E783C689E8>: Note that this layer is not optimized for performance. Please use tf.keras.layers.CuDNNLSTM for better performance on GPU.\n",
      "W0428 23:57:00.904567 13956 tf_logging.py:161] <tensorflow.python.keras.layers.recurrent.UnifiedLSTM object at 0x000001E8271C1278>: Note that this layer is not optimized for performance. Please use tf.keras.layers.CuDNNLSTM for better performance on GPU.\n"
     ]
    }
   ],
   "source": [
    "\"\"\"\n",
    "*copied from the docstring*\n",
    "\n",
    "Model architecture:\n",
    "\n",
    "CudnnLSTM\n",
    "dropout\n",
    "relu\n",
    "CudnnLSTM\n",
    "dropout\n",
    "relu\n",
    "Dense\n",
    "softmax\n",
    "\"\"\"\n",
    "\n",
    "model = MyModel(LSTM1_units=LSTM1_SIZE,\n",
    "                LSTM2_units=LSTM2_SIZE,\n",
    "                output_size=len(characters))"
   ]
  },
  {
   "cell_type": "markdown",
   "metadata": {},
   "source": [
    "---\n",
    "Training functions\n",
    "---"
   ]
  },
  {
   "cell_type": "code",
   "execution_count": 14,
   "metadata": {},
   "outputs": [],
   "source": [
    "def get_batch(data):\n",
    "    \"\"\"\n",
    "    This generator yields tuples of batched datapoints.\n",
    "    \n",
    "    Shapes:\n",
    "    X -- (BATCH_SIZE, len(embedded_text) - 1, len(characters) + len(categories))\n",
    "    Y -- (BATCH_SIZE, len(embedded_text) - 1, len(characters))\n",
    "    \"\"\"\n",
    "    batches = len(data) // BATCH_SIZE\n",
    "    for i in range(batches):\n",
    "        inputs = []\n",
    "        targets = []\n",
    "        batch = data[i*BATCH_SIZE:(i+1)*BATCH_SIZE]\n",
    "        embedded = embed_data(batch)\n",
    "        for single_batch in embedded:\n",
    "            inputs.append(single_batch[:-1])\n",
    "            targets.append(single_batch[1:,:len(characters)])\n",
    "        yield np.array(inputs), np.array(targets)"
   ]
  },
  {
   "cell_type": "code",
   "execution_count": 15,
   "metadata": {},
   "outputs": [
    {
     "name": "stdout",
     "output_type": "stream",
     "text": [
      "x: (128, 3595, 202)\n",
      "y: (128, 3595, 83)\n"
     ]
    }
   ],
   "source": [
    "x,y = next(get_batch(arr_dataset))\n",
    "print(f\"x: {x.shape}\")\n",
    "print(f\"y: {y.shape}\")"
   ]
  },
  {
   "cell_type": "code",
   "execution_count": 16,
   "metadata": {},
   "outputs": [],
   "source": [
    "def split_batch_to_sequences(inputs, targets):\n",
    "    \"\"\"\n",
    "    This generator yields batches split into sequences with equal length\n",
    "    NOTE:\n",
    "    Sequences length will be close but not always equal\n",
    "    to SEQUENCE_SIZE because of the way np.array_split works\n",
    "    \"\"\"\n",
    "    sequences = np.ceil(len(inputs[0]) / SEQUENCE_SIZE)\n",
    "    inputs_split = np.array_split(inputs, sequences, axis=1)\n",
    "    targets_split = np.array_split(targets, sequences, axis=1)\n",
    "    for input_seq, target_seq in zip(inputs_split, targets_split):\n",
    "        yield input_seq, target_seq"
   ]
  },
  {
   "cell_type": "code",
   "execution_count": 17,
   "metadata": {},
   "outputs": [
    {
     "name": "stdout",
     "output_type": "stream",
     "text": [
      "x_seq: (128, 240, 202)\n",
      "y_seq: (128, 240, 83)\n"
     ]
    }
   ],
   "source": [
    "x_seq, y_seq = next(split_batch_to_sequences(x,y))\n",
    "print(f\"x_seq: {x_seq.shape}\")\n",
    "print(f\"y_seq: {y_seq.shape}\")"
   ]
  },
  {
   "cell_type": "code",
   "execution_count": 18,
   "metadata": {},
   "outputs": [
    {
     "name": "stdout",
     "output_type": "stream",
     "text": [
      "Input:\t'After great deliberation it was determined that the Ahamkara be made extinct. \\nIt was not an easy decision. Power had been obtained from the bargains, and the City needed power. Knowledge had been gleaned, and the Ahamkara knew answers to q'\n",
      "Target:\t'fter great deliberation it was determined that the Ahamkara be made extinct. \\nIt was not an easy decision. Power had been obtained from the bargains, and the City needed power. Knowledge had been gleaned, and the Ahamkara knew answers to qu'\n",
      "\n"
     ]
    }
   ],
   "source": [
    "print(f\"Input:\\t{repr(vectorizer.array_to_text(x_seq[0]))}\")\n",
    "print(f\"Target:\\t{repr(vectorizer.array_to_text(y_seq[0]))}\\n\")"
   ]
  },
  {
   "cell_type": "markdown",
   "metadata": {},
   "source": [
    "---\n",
    "Training setup\n",
    "---"
   ]
  },
  {
   "cell_type": "code",
   "execution_count": 19,
   "metadata": {
    "raw_mimetype": "text/x-python"
   },
   "outputs": [
    {
     "data": {
      "text/plain": [
       "'KMMMMMMMM666MM6MMMMMMMMMMMMMMMMMMMMMMMMMMMMMMMMMMMMMMMMMMMMMMMMMMMMMMMMMMMMMMMMMMMMMMMMMMMMMMMMMMMMMMMMMMMMMMMMMMMMMMMMMMMMMMMMMMMMMMMMMMMMMMMMMMMMMMMMMMMMMMMMMMMMMMMMMMMMMMMMMMMMMMMMMMMMMMMMMMMMMMMMMMMMMMMMMMMMMMMMMMMMMMMMMMMMMMMMMMMMMMMMM'"
      ]
     },
     "execution_count": 19,
     "metadata": {},
     "output_type": "execute_result"
    }
   ],
   "source": [
    "# model needs to run on some data before it can be summarized\n",
    "vectorizer.array_to_text(model(x_seq)[0].numpy())"
   ]
  },
  {
   "cell_type": "code",
   "execution_count": 20,
   "metadata": {
    "scrolled": true
   },
   "outputs": [
    {
     "name": "stdout",
     "output_type": "stream",
     "text": [
      "Model: \"my_model\"\n",
      "_________________________________________________________________\n",
      "Layer (type)                 Output Shape              Param #   \n",
      "=================================================================\n",
      "unified_lstm (UnifiedLSTM)   multiple                  470016    \n",
      "_________________________________________________________________\n",
      "unified_lstm_1 (UnifiedLSTM) multiple                  5246976   \n",
      "_________________________________________________________________\n",
      "dense (Dense)                multiple                  85075     \n",
      "=================================================================\n",
      "Total params: 5,802,067\n",
      "Trainable params: 5,802,067\n",
      "Non-trainable params: 0\n",
      "_________________________________________________________________\n"
     ]
    }
   ],
   "source": [
    "model.summary()"
   ]
  },
  {
   "cell_type": "code",
   "execution_count": 21,
   "metadata": {},
   "outputs": [],
   "source": [
    "if not os.path.exists(\"checkpoints/\"):\n",
    "    os.makedirs(\"checkpoints/\")"
   ]
  },
  {
   "cell_type": "code",
   "execution_count": 22,
   "metadata": {},
   "outputs": [],
   "source": [
    "OPTIMIZER = tf.optimizers.Nadam(learning_rate=0.001, beta_2=0.9999, epsilon=0.1)\n",
    "LOSS = tf.losses.categorical_crossentropy\n",
    "EPOCHS = 60\n",
    "DROPOUT_RATE = 0.3\n",
    "CHECKPOINT_FORMAT = \"checkpoints/epoch{epoch}.ckpt\" "
   ]
  },
  {
   "cell_type": "code",
   "execution_count": 23,
   "metadata": {},
   "outputs": [],
   "source": [
    "def single_train_step(inputs, targets):\n",
    "    with tf.GradientTape() as tape:\n",
    "        preds = model(inputs=inputs, remember=True, dropout_rate=DROPOUT_RATE)\n",
    "        loss = LOSS(targets, preds)\n",
    "    grads = tape.gradient(loss, model.trainable_variables)\n",
    "    OPTIMIZER.apply_gradients(zip(grads, model.trainable_variables))\n",
    "    return loss"
   ]
  },
  {
   "cell_type": "markdown",
   "metadata": {},
   "source": [
    "---\n",
    "Training loop\n",
    "---"
   ]
  },
  {
   "cell_type": "code",
   "execution_count": 24,
   "metadata": {
    "scrolled": false
   },
   "outputs": [
    {
     "name": "stdout",
     "output_type": "stream",
     "text": [
      "Epoch 1 finished!\tTime: 592s per epoch\tAverage loss: 1.1741\n",
      "Epoch 2 finished!\tTime: 603s per epoch\tAverage loss: 0.9252\n",
      "Epoch 3 finished!\tTime: 530s per epoch\tAverage loss: 0.7274\n",
      "Epoch 4 finished!\tTime: 531s per epoch\tAverage loss: 0.7091\n",
      "Epoch 5 finished!\tTime: 556s per epoch\tAverage loss: 0.6425\n",
      "Epoch 6 finished!\tTime: 514s per epoch\tAverage loss: 0.6041\n",
      "Epoch 7 finished!\tTime: 525s per epoch\tAverage loss: 0.5658\n",
      "Epoch 8 finished!\tTime: 511s per epoch\tAverage loss: 0.5263\n",
      "Epoch 9 finished!\tTime: 556s per epoch\tAverage loss: 0.5068\n",
      "Epoch 10 finished!\tTime: 546s per epoch\tAverage loss: 0.5025\n",
      "Epoch 11 finished!\tTime: 585s per epoch\tAverage loss: 0.4579\n",
      "Epoch 12 finished!\tTime: 544s per epoch\tAverage loss: 0.4436\n",
      "Epoch 13 finished!\tTime: 521s per epoch\tAverage loss: 0.4268\n",
      "Epoch 14 finished!\tTime: 503s per epoch\tAverage loss: 0.4198\n",
      "Epoch 15 finished!\tTime: 483s per epoch\tAverage loss: 0.4242\n",
      "Epoch 16 finished!\tTime: 499s per epoch\tAverage loss: 0.3958\n",
      "Epoch 17 finished!\tTime: 501s per epoch\tAverage loss: 0.3821\n",
      "Epoch 18 finished!\tTime: 485s per epoch\tAverage loss: 0.3837\n",
      "Epoch 19 finished!\tTime: 479s per epoch\tAverage loss: 0.3795\n",
      "Epoch 20 finished!\tTime: 528s per epoch\tAverage loss: 0.3371\n",
      "Epoch 21 finished!\tTime: 526s per epoch\tAverage loss: 0.3307\n",
      "Epoch 22 finished!\tTime: 492s per epoch\tAverage loss: 0.3447\n",
      "Epoch 23 finished!\tTime: 496s per epoch\tAverage loss: 0.3340\n",
      "Epoch 24 finished!\tTime: 493s per epoch\tAverage loss: 0.3320\n",
      "Epoch 25 finished!\tTime: 520s per epoch\tAverage loss: 0.3071\n",
      "Epoch 26 finished!\tTime: 503s per epoch\tAverage loss: 0.3136\n",
      "Epoch 27 finished!\tTime: 495s per epoch\tAverage loss: 0.3132\n",
      "Epoch 28 finished!\tTime: 519s per epoch\tAverage loss: 0.2943\n",
      "Epoch 29 finished!\tTime: 473s per epoch\tAverage loss: 0.3211\n",
      "Epoch 30 finished!\tTime: 555s per epoch\tAverage loss: 0.2990\n",
      "Epoch 31 finished!\tTime: 529s per epoch\tAverage loss: 0.2890\n",
      "Epoch 32 finished!\tTime: 525s per epoch\tAverage loss: 0.2731\n",
      "Epoch 33 finished!\tTime: 511s per epoch\tAverage loss: 0.2761\n",
      "Epoch 34 finished!\tTime: 519s per epoch\tAverage loss: 0.2663\n",
      "Epoch 35 finished!\tTime: 497s per epoch\tAverage loss: 0.2747\n",
      "Epoch 36 finished!\tTime: 498s per epoch\tAverage loss: 0.2697\n",
      "Epoch 37 finished!\tTime: 485s per epoch\tAverage loss: 0.2730\n",
      "Epoch 38 finished!\tTime: 499s per epoch\tAverage loss: 0.2593\n",
      "Epoch 39 finished!\tTime: 484s per epoch\tAverage loss: 0.2634\n",
      "Epoch 40 finished!\tTime: 491s per epoch\tAverage loss: 0.2573\n",
      "Epoch 41 finished!\tTime: 486s per epoch\tAverage loss: 0.2544\n",
      "Epoch 42 finished!\tTime: 502s per epoch\tAverage loss: 0.2425\n",
      "Epoch 43 finished!\tTime: 480s per epoch\tAverage loss: 0.2484\n",
      "Epoch 44 finished!\tTime: 509s per epoch\tAverage loss: 0.2317\n",
      "Epoch 45 finished!\tTime: 500s per epoch\tAverage loss: 0.2320\n",
      "Epoch 46 finished!\tTime: 492s per epoch\tAverage loss: 0.2322\n",
      "Epoch 47 finished!\tTime: 480s per epoch\tAverage loss: 0.2326\n",
      "Epoch 48 finished!\tTime: 504s per epoch\tAverage loss: 0.2206\n",
      "Epoch 49 finished!\tTime: 494s per epoch\tAverage loss: 0.2203\n",
      "Epoch 50 finished!\tTime: 500s per epoch\tAverage loss: 0.2147\n",
      "Epoch 51 finished!\tTime: 530s per epoch\tAverage loss: 0.1999\n",
      "Epoch 52 finished!\tTime: 521s per epoch\tAverage loss: 0.1991\n",
      "Epoch 53 finished!\tTime: 491s per epoch\tAverage loss: 0.2065\n",
      "Epoch 54 finished!\tTime: 495s per epoch\tAverage loss: 0.2021\n",
      "Epoch 55 finished!\tTime: 519s per epoch\tAverage loss: 0.1914\n",
      "Epoch 56 finished!\tTime: 488s per epoch\tAverage loss: 0.1990\n",
      "Epoch 57 finished!\tTime: 481s per epoch\tAverage loss: 0.1981\n",
      "Epoch 58 finished!\tTime: 509s per epoch\tAverage loss: 0.1851\n",
      "Epoch 59 finished!\tTime: 509s per epoch\tAverage loss: 0.1823\n",
      "Epoch 60 finished!\tTime: 475s per epoch\tAverage loss: 0.1900\n"
     ]
    }
   ],
   "source": [
    "history = []\n",
    "with DEVICE:\n",
    "    for epoch in range(1, EPOCHS+1):\n",
    "        np.random.shuffle(arr_dataset)\n",
    "        epoch_start = time()\n",
    "\n",
    "        losses = []\n",
    "        num_batches = len(arr_dataset) // BATCH_SIZE\n",
    "\n",
    "        for batch_num, (inputs, targets) in enumerate(get_batch(arr_dataset), 1):\n",
    "            model.forget()  # reset states\n",
    "            batch_start = time()\n",
    "            num_sequences = int(np.ceil(len(inputs[0]) / SEQUENCE_SIZE))\n",
    "            for (sequence_num,\n",
    "                (input_sequence,\n",
    "                target_sequence)) in enumerate(split_batch_to_sequences(inputs, targets), 1):\n",
    "\n",
    "                loss = single_train_step(input_sequence, target_sequence)\n",
    "                print(f\"Epoch {epoch}/{EPOCHS}\\t\"\n",
    "                      f\"Batch {batch_num}/{num_batches}\\t\"\n",
    "                      f\"Sequence {sequence_num}/{num_sequences}\\t\"\n",
    "                      f\"Loss {loss.numpy().mean():.4f}\", end='\\r')\n",
    "                losses.append(loss.numpy().mean())\n",
    "\n",
    "        print(f\"Epoch {epoch} finished!\\t\"\n",
    "              f\"Time: {time()-epoch_start:.0f}s per epoch\\t\"\n",
    "              f\"Average loss: {np.mean(losses):.4f}\")\n",
    "        history.append(losses)\n",
    "        model.save_weights(CHECKPOINT_FORMAT.format(epoch=epoch))"
   ]
  },
  {
   "cell_type": "markdown",
   "metadata": {},
   "source": [
    "---\n",
    "Visualization\n",
    "---"
   ]
  },
  {
   "cell_type": "code",
   "execution_count": 25,
   "metadata": {
    "scrolled": false
   },
   "outputs": [
    {
     "data": {
      "text/html": [
       "\n",
       "\n",
       "\n",
       "\n",
       "\n",
       "\n",
       "  <div class=\"bk-root\" id=\"40592b0a-2eee-4aba-85f9-ca2abb1d65d9\"></div>\n"
      ]
     },
     "metadata": {},
     "output_type": "display_data"
    },
    {
     "data": {
      "application/javascript": [
       "(function(root) {\n",
       "  function embed_document(root) {\n",
       "    \n",
       "  var docs_json = {\"2d29c6c4-d2cb-4014-b44e-40f86153471d\":{\"roots\":{\"references\":[{\"attributes\":{\"below\":[{\"id\":\"1011\",\"type\":\"LinearAxis\"}],\"left\":[{\"id\":\"1016\",\"type\":\"LinearAxis\"}],\"renderers\":[{\"id\":\"1011\",\"type\":\"LinearAxis\"},{\"id\":\"1015\",\"type\":\"Grid\"},{\"id\":\"1016\",\"type\":\"LinearAxis\"},{\"id\":\"1020\",\"type\":\"Grid\"},{\"id\":\"1029\",\"type\":\"BoxAnnotation\"},{\"id\":\"1048\",\"type\":\"Legend\"},{\"id\":\"1039\",\"type\":\"GlyphRenderer\"}],\"title\":{\"id\":\"1042\",\"type\":\"Title\"},\"toolbar\":{\"id\":\"1027\",\"type\":\"Toolbar\"},\"x_range\":{\"id\":\"1003\",\"type\":\"DataRange1d\"},\"x_scale\":{\"id\":\"1007\",\"type\":\"LinearScale\"},\"y_range\":{\"id\":\"1005\",\"type\":\"DataRange1d\"},\"y_scale\":{\"id\":\"1009\",\"type\":\"LinearScale\"}},\"id\":\"1002\",\"subtype\":\"Figure\",\"type\":\"Plot\"},{\"attributes\":{\"overlay\":{\"id\":\"1029\",\"type\":\"BoxAnnotation\"}},\"id\":\"1023\",\"type\":\"BoxZoomTool\"},{\"attributes\":{\"bottom_units\":\"screen\",\"fill_alpha\":{\"value\":0.5},\"fill_color\":{\"value\":\"lightgrey\"},\"left_units\":\"screen\",\"level\":\"overlay\",\"line_alpha\":{\"value\":1.0},\"line_color\":{\"value\":\"black\"},\"line_dash\":[4,4],\"line_width\":{\"value\":2},\"plot\":null,\"render_mode\":\"css\",\"right_units\":\"screen\",\"top_units\":\"screen\"},\"id\":\"1029\",\"type\":\"BoxAnnotation\"},{\"attributes\":{\"active_drag\":\"auto\",\"active_inspect\":\"auto\",\"active_multi\":null,\"active_scroll\":\"auto\",\"active_tap\":\"auto\",\"tools\":[{\"id\":\"1021\",\"type\":\"PanTool\"},{\"id\":\"1022\",\"type\":\"WheelZoomTool\"},{\"id\":\"1023\",\"type\":\"BoxZoomTool\"},{\"id\":\"1024\",\"type\":\"SaveTool\"},{\"id\":\"1025\",\"type\":\"ResetTool\"},{\"id\":\"1026\",\"type\":\"HelpTool\"}]},\"id\":\"1027\",\"type\":\"Toolbar\"},{\"attributes\":{},\"id\":\"1012\",\"type\":\"BasicTicker\"},{\"attributes\":{\"label\":{\"value\":\"Average loss\"},\"renderers\":[{\"id\":\"1039\",\"type\":\"GlyphRenderer\"}]},\"id\":\"1049\",\"type\":\"LegendItem\"},{\"attributes\":{\"plot\":{\"id\":\"1002\",\"subtype\":\"Figure\",\"type\":\"Plot\"},\"ticker\":{\"id\":\"1012\",\"type\":\"BasicTicker\"}},\"id\":\"1015\",\"type\":\"Grid\"},{\"attributes\":{\"line_alpha\":0.1,\"line_color\":\"#1f77b4\",\"x\":{\"field\":\"x\"},\"y\":{\"field\":\"y\"}},\"id\":\"1038\",\"type\":\"Line\"},{\"attributes\":{\"callback\":null,\"data\":{\"x\":[0,1,2,3,4,5,6,7,8,9,10,11,12,13,14,15,16,17,18,19,20,21,22,23,24,25,26,27,28,29,30,31,32,33,34,35,36,37,38,39,40,41,42,43,44,45,46,47,48,49,50,51,52,53,54,55,56,57,58,59],\"y\":[1.1740847826004028,0.9251736402511597,0.7274388670921326,0.7090588212013245,0.6425100564956665,0.604141116142273,0.5657824277877808,0.5263231992721558,0.5068088173866272,0.5024933815002441,0.45787158608436584,0.44357022643089294,0.4268014132976532,0.4197804033756256,0.4241906702518463,0.3958165645599365,0.3820597529411316,0.3837277591228485,0.3795153498649597,0.33714649081230164,0.3306964039802551,0.3446729779243469,0.3339982330799103,0.3319886028766632,0.3070901036262512,0.31361591815948486,0.3131561279296875,0.2942584455013275,0.32113713026046753,0.29899823665618896,0.2889682650566101,0.27308419346809387,0.27606168389320374,0.2662982940673828,0.2747356593608856,0.2697264552116394,0.27300286293029785,0.25931769609451294,0.2633708715438843,0.25734832882881165,0.2543815076351166,0.24247246980667114,0.24837087094783783,0.23172007501125336,0.23203963041305542,0.23216001689434052,0.23258927464485168,0.22059784829616547,0.22027236223220825,0.21472612023353577,0.19986791908740997,0.1991196721792221,0.20652268826961517,0.2020774781703949,0.19139909744262695,0.19895271956920624,0.19807381927967072,0.1850956678390503,0.1823401004076004,0.19000335037708282]},\"selected\":{\"id\":\"1058\",\"type\":\"Selection\"},\"selection_policy\":{\"id\":\"1057\",\"type\":\"UnionRenderers\"}},\"id\":\"1036\",\"type\":\"ColumnDataSource\"},{\"attributes\":{\"formatter\":{\"id\":\"1043\",\"type\":\"BasicTickFormatter\"},\"plot\":{\"id\":\"1002\",\"subtype\":\"Figure\",\"type\":\"Plot\"},\"ticker\":{\"id\":\"1017\",\"type\":\"BasicTicker\"}},\"id\":\"1016\",\"type\":\"LinearAxis\"},{\"attributes\":{},\"id\":\"1022\",\"type\":\"WheelZoomTool\"},{\"attributes\":{},\"id\":\"1021\",\"type\":\"PanTool\"},{\"attributes\":{},\"id\":\"1007\",\"type\":\"LinearScale\"},{\"attributes\":{\"dimension\":1,\"plot\":{\"id\":\"1002\",\"subtype\":\"Figure\",\"type\":\"Plot\"},\"ticker\":{\"id\":\"1017\",\"type\":\"BasicTicker\"}},\"id\":\"1020\",\"type\":\"Grid\"},{\"attributes\":{},\"id\":\"1009\",\"type\":\"LinearScale\"},{\"attributes\":{},\"id\":\"1024\",\"type\":\"SaveTool\"},{\"attributes\":{\"formatter\":{\"id\":\"1045\",\"type\":\"BasicTickFormatter\"},\"plot\":{\"id\":\"1002\",\"subtype\":\"Figure\",\"type\":\"Plot\"},\"ticker\":{\"id\":\"1012\",\"type\":\"BasicTicker\"}},\"id\":\"1011\",\"type\":\"LinearAxis\"},{\"attributes\":{},\"id\":\"1026\",\"type\":\"HelpTool\"},{\"attributes\":{},\"id\":\"1017\",\"type\":\"BasicTicker\"},{\"attributes\":{},\"id\":\"1043\",\"type\":\"BasicTickFormatter\"},{\"attributes\":{\"line_color\":\"blue\",\"x\":{\"field\":\"x\"},\"y\":{\"field\":\"y\"}},\"id\":\"1037\",\"type\":\"Line\"},{\"attributes\":{},\"id\":\"1045\",\"type\":\"BasicTickFormatter\"},{\"attributes\":{\"items\":[{\"id\":\"1049\",\"type\":\"LegendItem\"}],\"plot\":{\"id\":\"1002\",\"subtype\":\"Figure\",\"type\":\"Plot\"}},\"id\":\"1048\",\"type\":\"Legend\"},{\"attributes\":{},\"id\":\"1058\",\"type\":\"Selection\"},{\"attributes\":{\"data_source\":{\"id\":\"1036\",\"type\":\"ColumnDataSource\"},\"glyph\":{\"id\":\"1037\",\"type\":\"Line\"},\"hover_glyph\":null,\"muted_glyph\":null,\"nonselection_glyph\":{\"id\":\"1038\",\"type\":\"Line\"},\"selection_glyph\":null,\"view\":{\"id\":\"1040\",\"type\":\"CDSView\"}},\"id\":\"1039\",\"type\":\"GlyphRenderer\"},{\"attributes\":{\"callback\":null},\"id\":\"1005\",\"type\":\"DataRange1d\"},{\"attributes\":{\"source\":{\"id\":\"1036\",\"type\":\"ColumnDataSource\"}},\"id\":\"1040\",\"type\":\"CDSView\"},{\"attributes\":{},\"id\":\"1025\",\"type\":\"ResetTool\"},{\"attributes\":{\"plot\":null,\"text\":\"\"},\"id\":\"1042\",\"type\":\"Title\"},{\"attributes\":{},\"id\":\"1057\",\"type\":\"UnionRenderers\"},{\"attributes\":{\"callback\":null},\"id\":\"1003\",\"type\":\"DataRange1d\"}],\"root_ids\":[\"1002\"]},\"title\":\"Bokeh Application\",\"version\":\"1.0.1\"}};\n",
       "  var render_items = [{\"docid\":\"2d29c6c4-d2cb-4014-b44e-40f86153471d\",\"roots\":{\"1002\":\"40592b0a-2eee-4aba-85f9-ca2abb1d65d9\"}}];\n",
       "  root.Bokeh.embed.embed_items_notebook(docs_json, render_items);\n",
       "\n",
       "  }\n",
       "  if (root.Bokeh !== undefined) {\n",
       "    embed_document(root);\n",
       "  } else {\n",
       "    var attempts = 0;\n",
       "    var timer = setInterval(function(root) {\n",
       "      if (root.Bokeh !== undefined) {\n",
       "        embed_document(root);\n",
       "        clearInterval(timer);\n",
       "      }\n",
       "      attempts++;\n",
       "      if (attempts > 100) {\n",
       "        console.log(\"Bokeh: ERROR: Unable to run BokehJS code because BokehJS library is missing\");\n",
       "        clearInterval(timer);\n",
       "      }\n",
       "    }, 10, root)\n",
       "  }\n",
       "})(window);"
      ],
      "application/vnd.bokehjs_exec.v0+json": ""
     },
     "metadata": {
      "application/vnd.bokehjs_exec.v0+json": {
       "id": "1002"
      }
     },
     "output_type": "display_data"
    }
   ],
   "source": [
    "fig = figure()\n",
    "\n",
    "history_avg = [np.mean(i) for i in history]\n",
    "X = range(len(history_avg))\n",
    "Y = history_avg\n",
    "\n",
    "fig.line(X,Y, legend=\"Average loss\", color=\"blue\")\n",
    "\n",
    "show(fig)"
   ]
  }
 ],
 "metadata": {
  "celltoolbar": "Raw Cell Format",
  "kernelspec": {
   "display_name": "Python 3",
   "language": "python",
   "name": "python3"
  },
  "language_info": {
   "codemirror_mode": {
    "name": "ipython",
    "version": 3
   },
   "file_extension": ".py",
   "mimetype": "text/x-python",
   "name": "python",
   "nbconvert_exporter": "python",
   "pygments_lexer": "ipython3",
   "version": "3.6.6"
  }
 },
 "nbformat": 4,
 "nbformat_minor": 2
}
