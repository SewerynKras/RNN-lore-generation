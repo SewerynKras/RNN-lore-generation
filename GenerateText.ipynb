{
 "cells": [
  {
   "cell_type": "code",
   "execution_count": 1,
   "metadata": {},
   "outputs": [],
   "source": [
    "from helpers import TextGenerator, TextVectorizer\n",
    "from model import MyModel"
   ]
  },
  {
   "cell_type": "code",
   "execution_count": 2,
   "metadata": {},
   "outputs": [],
   "source": [
    "!pip install -q tensorflow-gpu==2.0.0-alpha0\n",
    "import tensorflow as tf\n",
    "assert tf.__version__ == '2.0.0-alpha0'"
   ]
  },
  {
   "cell_type": "code",
   "execution_count": 3,
   "metadata": {},
   "outputs": [],
   "source": [
    "import pickle\n",
    "with open('data/data_packed.pickle', 'rb') as f:\n",
    "    data_packed = pickle.load(f)\n",
    "\n",
    "categories = data_packed['downloaded'].keys()\n",
    "characters = data_packed['characters']\n",
    "\n",
    "vectorizer = TextVectorizer(unique_characters=characters,\n",
    "                            categories=categories)"
   ]
  },
  {
   "cell_type": "code",
   "execution_count": 4,
   "metadata": {},
   "outputs": [
    {
     "name": "stderr",
     "output_type": "stream",
     "text": [
      "WARNING: Logging before flag parsing goes to stderr.\n",
      "W0420 19:40:22.781991  9516 tf_logging.py:161] <tensorflow.python.keras.layers.recurrent.UnifiedLSTM object at 0x0000024262DF4EF0>: Note that this layer is not optimized for performance. Please use tf.keras.layers.CuDNNLSTM for better performance on GPU.\n",
      "W0420 19:40:22.796937  9516 tf_logging.py:161] <tensorflow.python.keras.layers.recurrent.UnifiedLSTM object at 0x0000024262E73320>: Note that this layer is not optimized for performance. Please use tf.keras.layers.CuDNNLSTM for better performance on GPU.\n"
     ]
    },
    {
     "data": {
      "text/plain": [
       "<tensorflow.python.training.tracking.util.CheckpointLoadStatus at 0x24262e8a198>"
      ]
     },
     "execution_count": 4,
     "metadata": {},
     "output_type": "execute_result"
    }
   ],
   "source": [
    "model = MyModel(LSTM1_units=512, LSTM2_units=1024, output_size=len(characters))\n",
    "model.load_weights(\"checkpoints/Nadam50.ckpt\")"
   ]
  },
  {
   "cell_type": "code",
   "execution_count": 5,
   "metadata": {},
   "outputs": [],
   "source": [
    "generator = TextGenerator(model, vectorizer)"
   ]
  },
  {
   "cell_type": "code",
   "execution_count": 6,
   "metadata": {},
   "outputs": [],
   "source": [
    "category = \"emperor-calus\"\n",
    "start_str = \"Hello\""
   ]
  },
  {
   "cell_type": "code",
   "execution_count": 7,
   "metadata": {},
   "outputs": [
    {
     "name": "stdout",
     "output_type": "stream",
     "text": [
      "Hello again. It's a beast.\n",
      "Eris: I don't know. Destroying Rasputin would come or flash. The sword world is not a position with the region of the Tower. You are it found a women out of the far end I could control the signal this direction is too smark.\n",
      "I am [Riven]. I said nothing. What a turn with the dien last flame work, let me be the best of the ship, the temps attemped better than I have shede drops the signs of the Deep Taken cannon back to find it would be the care.\n",
      "But if I am comfortable, but I would come to feel it. I will not avenge you. And no one easter is my father. I am all I was stronger and she will help my take.\n",
      "I thought you were his life and here I will be driven back to my father and a life to your people in its own throne. The desire to die of this close. I should kill me how to speak into the power to lead us on him and take your weapon into the shadows. I can't say it thought of your memories are your secret.\n",
      "Tell me how to step. Spore them to protect your consider to the stranger in the shadow and the bones are so from the dark end of the shadow's calling in the first shot. I made my own man with many technology and myself as you made my endoring manters. I can't say that the problem is to guide them with you, and he did. And those you torch, your Guardians master is to take the entire collective to the Deep. The deep drowns here with points and flew or strength. But you must stand with the story that is systems, my sister, my source! Oryx was recognized when he could see her fell in the shadow of a dead Draksis, and he was a secret from the Darkness to become him.\n",
      "And there is something that could not be outnownd. To be something mighty, and the strength his eyes were too late to say the second time before the day of screams. The vision of the shadows and the shadows engineers distant. Behind the light and sit down here to the stranger with the ship, signiting them to their fails and time where the broken would control the morning and the actions of the destroyer and work on its sidearm. This is the way they would be a better to know the whole plan.\n",
      "So many she will learn and stare between death in the City, the House of Devils from the Speaker made their secrets around it so that it would be deticus.\n",
      "Reacited that stands at a battle which survents of the Darkness to strengthen restreing the sound like a componing way to stop at the distant blade to the controls.\n",
      "Rezyl ande that condining his orders here for the significant to the Darkness to made stranger and stand as the system is a banner on a brief story one day to explore the shape of the Deep. She knows he's seen burning to him as a secret power. It seemed sure, but that structures are fighting about the massive sensor gens, but it was not contanted, on the truth memory, the disasternation of the world that a machine and the distorant Worm has been like the strength of the Hive, the right of the Awoken could speak on one of the screams.\n",
      "But the Guardians know that the Hive personal Vanguard would see her friends she turned to this gar. She will need to still live for little Ghosts. They remember her. She had the Wolves had to clear the face of the Scribes, and they teach him on his path and the great hall forces of the Dreadnaught for their invincible dark for her fallen half-their brother had taken the sand and the crumble of her soul are too pressure on a long time. The shadow of the Scribes assess to see the sounce of the world, she does not react and know it would come to us. It han decased to the shadow of the Traveler. She had a clear position she looks at the end.\n",
      "She had to prevent The Speaker's and holded him. The two Mind are stories around Rasputin. And that's the only who is telling it with the insident burning time. The tribe reacter, a sense of power, and the bones of the great and the first and the bone and the bottom of the wilds for the Dreadnaught. They were meet him as a Guardian and the Traveler's remaining clatfing.\n",
      "She had to prepare for the Awoken for the instant. It has not been an entering teched on the Dreadnaught that armors and encapsulates his throne-world to see his family down into Cabal remaining accourns that the Scorned Barons banded the silent sing. The Wrath age silent, not all the specimen's contact to the Simura Perhander's City had been listening to a dream and burned Valus to allow it.\n",
      "The problem is the first place of a Sprine Trare shapes, and it termbroch out of the room like a tearsid, a trainon as enelating, a creature and in a broken of the real world, the battle would be alletioned to the Ghost started from the siblings of the City.␃"
     ]
    }
   ],
   "source": [
    "print(start_str, end='')\n",
    "\n",
    "for char in generator.generate(start_str, category):\n",
    "    print(char, end='')"
   ]
  }
 ],
 "metadata": {
  "kernelspec": {
   "display_name": "Python 3",
   "language": "python",
   "name": "python3"
  },
  "language_info": {
   "codemirror_mode": {
    "name": "ipython",
    "version": 3
   },
   "file_extension": ".py",
   "mimetype": "text/x-python",
   "name": "python",
   "nbconvert_exporter": "python",
   "pygments_lexer": "ipython3",
   "version": "3.6.6"
  }
 },
 "nbformat": 4,
 "nbformat_minor": 2
}
