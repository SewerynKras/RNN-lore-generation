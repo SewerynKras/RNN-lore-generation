{
 "cells": [
  {
   "cell_type": "code",
   "execution_count": 2,
   "metadata": {},
   "outputs": [],
   "source": [
    "import pickle\n",
    "import numpy as np\n",
    "from time import time\n",
    "import os\n",
    "from helpers import TextVectorizer\n",
    "from model import MyModel"
   ]
  },
  {
   "cell_type": "code",
   "execution_count": 3,
   "metadata": {},
   "outputs": [
    {
     "data": {
      "text/html": [
       "\n",
       "    <div class=\"bk-root\">\n",
       "        <a href=\"https://bokeh.pydata.org\" target=\"_blank\" class=\"bk-logo bk-logo-small bk-logo-notebook\"></a>\n",
       "        <span id=\"1001\">Loading BokehJS ...</span>\n",
       "    </div>"
      ]
     },
     "metadata": {},
     "output_type": "display_data"
    },
    {
     "data": {
      "application/javascript": [
       "\n",
       "(function(root) {\n",
       "  function now() {\n",
       "    return new Date();\n",
       "  }\n",
       "\n",
       "  var force = true;\n",
       "\n",
       "  if (typeof (root._bokeh_onload_callbacks) === \"undefined\" || force === true) {\n",
       "    root._bokeh_onload_callbacks = [];\n",
       "    root._bokeh_is_loading = undefined;\n",
       "  }\n",
       "\n",
       "  var JS_MIME_TYPE = 'application/javascript';\n",
       "  var HTML_MIME_TYPE = 'text/html';\n",
       "  var EXEC_MIME_TYPE = 'application/vnd.bokehjs_exec.v0+json';\n",
       "  var CLASS_NAME = 'output_bokeh rendered_html';\n",
       "\n",
       "  /**\n",
       "   * Render data to the DOM node\n",
       "   */\n",
       "  function render(props, node) {\n",
       "    var script = document.createElement(\"script\");\n",
       "    node.appendChild(script);\n",
       "  }\n",
       "\n",
       "  /**\n",
       "   * Handle when an output is cleared or removed\n",
       "   */\n",
       "  function handleClearOutput(event, handle) {\n",
       "    var cell = handle.cell;\n",
       "\n",
       "    var id = cell.output_area._bokeh_element_id;\n",
       "    var server_id = cell.output_area._bokeh_server_id;\n",
       "    // Clean up Bokeh references\n",
       "    if (id != null && id in Bokeh.index) {\n",
       "      Bokeh.index[id].model.document.clear();\n",
       "      delete Bokeh.index[id];\n",
       "    }\n",
       "\n",
       "    if (server_id !== undefined) {\n",
       "      // Clean up Bokeh references\n",
       "      var cmd = \"from bokeh.io.state import curstate; print(curstate().uuid_to_server['\" + server_id + \"'].get_sessions()[0].document.roots[0]._id)\";\n",
       "      cell.notebook.kernel.execute(cmd, {\n",
       "        iopub: {\n",
       "          output: function(msg) {\n",
       "            var id = msg.content.text.trim();\n",
       "            if (id in Bokeh.index) {\n",
       "              Bokeh.index[id].model.document.clear();\n",
       "              delete Bokeh.index[id];\n",
       "            }\n",
       "          }\n",
       "        }\n",
       "      });\n",
       "      // Destroy server and session\n",
       "      var cmd = \"import bokeh.io.notebook as ion; ion.destroy_server('\" + server_id + \"')\";\n",
       "      cell.notebook.kernel.execute(cmd);\n",
       "    }\n",
       "  }\n",
       "\n",
       "  /**\n",
       "   * Handle when a new output is added\n",
       "   */\n",
       "  function handleAddOutput(event, handle) {\n",
       "    var output_area = handle.output_area;\n",
       "    var output = handle.output;\n",
       "\n",
       "    // limit handleAddOutput to display_data with EXEC_MIME_TYPE content only\n",
       "    if ((output.output_type != \"display_data\") || (!output.data.hasOwnProperty(EXEC_MIME_TYPE))) {\n",
       "      return\n",
       "    }\n",
       "\n",
       "    var toinsert = output_area.element.find(\".\" + CLASS_NAME.split(' ')[0]);\n",
       "\n",
       "    if (output.metadata[EXEC_MIME_TYPE][\"id\"] !== undefined) {\n",
       "      toinsert[toinsert.length - 1].firstChild.textContent = output.data[JS_MIME_TYPE];\n",
       "      // store reference to embed id on output_area\n",
       "      output_area._bokeh_element_id = output.metadata[EXEC_MIME_TYPE][\"id\"];\n",
       "    }\n",
       "    if (output.metadata[EXEC_MIME_TYPE][\"server_id\"] !== undefined) {\n",
       "      var bk_div = document.createElement(\"div\");\n",
       "      bk_div.innerHTML = output.data[HTML_MIME_TYPE];\n",
       "      var script_attrs = bk_div.children[0].attributes;\n",
       "      for (var i = 0; i < script_attrs.length; i++) {\n",
       "        toinsert[toinsert.length - 1].firstChild.setAttribute(script_attrs[i].name, script_attrs[i].value);\n",
       "      }\n",
       "      // store reference to server id on output_area\n",
       "      output_area._bokeh_server_id = output.metadata[EXEC_MIME_TYPE][\"server_id\"];\n",
       "    }\n",
       "  }\n",
       "\n",
       "  function register_renderer(events, OutputArea) {\n",
       "\n",
       "    function append_mime(data, metadata, element) {\n",
       "      // create a DOM node to render to\n",
       "      var toinsert = this.create_output_subarea(\n",
       "        metadata,\n",
       "        CLASS_NAME,\n",
       "        EXEC_MIME_TYPE\n",
       "      );\n",
       "      this.keyboard_manager.register_events(toinsert);\n",
       "      // Render to node\n",
       "      var props = {data: data, metadata: metadata[EXEC_MIME_TYPE]};\n",
       "      render(props, toinsert[toinsert.length - 1]);\n",
       "      element.append(toinsert);\n",
       "      return toinsert\n",
       "    }\n",
       "\n",
       "    /* Handle when an output is cleared or removed */\n",
       "    events.on('clear_output.CodeCell', handleClearOutput);\n",
       "    events.on('delete.Cell', handleClearOutput);\n",
       "\n",
       "    /* Handle when a new output is added */\n",
       "    events.on('output_added.OutputArea', handleAddOutput);\n",
       "\n",
       "    /**\n",
       "     * Register the mime type and append_mime function with output_area\n",
       "     */\n",
       "    OutputArea.prototype.register_mime_type(EXEC_MIME_TYPE, append_mime, {\n",
       "      /* Is output safe? */\n",
       "      safe: true,\n",
       "      /* Index of renderer in `output_area.display_order` */\n",
       "      index: 0\n",
       "    });\n",
       "  }\n",
       "\n",
       "  // register the mime type if in Jupyter Notebook environment and previously unregistered\n",
       "  if (root.Jupyter !== undefined) {\n",
       "    var events = require('base/js/events');\n",
       "    var OutputArea = require('notebook/js/outputarea').OutputArea;\n",
       "\n",
       "    if (OutputArea.prototype.mime_types().indexOf(EXEC_MIME_TYPE) == -1) {\n",
       "      register_renderer(events, OutputArea);\n",
       "    }\n",
       "  }\n",
       "\n",
       "  \n",
       "  if (typeof (root._bokeh_timeout) === \"undefined\" || force === true) {\n",
       "    root._bokeh_timeout = Date.now() + 5000;\n",
       "    root._bokeh_failed_load = false;\n",
       "  }\n",
       "\n",
       "  var NB_LOAD_WARNING = {'data': {'text/html':\n",
       "     \"<div style='background-color: #fdd'>\\n\"+\n",
       "     \"<p>\\n\"+\n",
       "     \"BokehJS does not appear to have successfully loaded. If loading BokehJS from CDN, this \\n\"+\n",
       "     \"may be due to a slow or bad network connection. Possible fixes:\\n\"+\n",
       "     \"</p>\\n\"+\n",
       "     \"<ul>\\n\"+\n",
       "     \"<li>re-rerun `output_notebook()` to attempt to load from CDN again, or</li>\\n\"+\n",
       "     \"<li>use INLINE resources instead, as so:</li>\\n\"+\n",
       "     \"</ul>\\n\"+\n",
       "     \"<code>\\n\"+\n",
       "     \"from bokeh.resources import INLINE\\n\"+\n",
       "     \"output_notebook(resources=INLINE)\\n\"+\n",
       "     \"</code>\\n\"+\n",
       "     \"</div>\"}};\n",
       "\n",
       "  function display_loaded() {\n",
       "    var el = document.getElementById(\"1001\");\n",
       "    if (el != null) {\n",
       "      el.textContent = \"BokehJS is loading...\";\n",
       "    }\n",
       "    if (root.Bokeh !== undefined) {\n",
       "      if (el != null) {\n",
       "        el.textContent = \"BokehJS \" + root.Bokeh.version + \" successfully loaded.\";\n",
       "      }\n",
       "    } else if (Date.now() < root._bokeh_timeout) {\n",
       "      setTimeout(display_loaded, 100)\n",
       "    }\n",
       "  }\n",
       "\n",
       "\n",
       "  function run_callbacks() {\n",
       "    try {\n",
       "      root._bokeh_onload_callbacks.forEach(function(callback) { callback() });\n",
       "    }\n",
       "    finally {\n",
       "      delete root._bokeh_onload_callbacks\n",
       "    }\n",
       "    console.info(\"Bokeh: all callbacks have finished\");\n",
       "  }\n",
       "\n",
       "  function load_libs(js_urls, callback) {\n",
       "    root._bokeh_onload_callbacks.push(callback);\n",
       "    if (root._bokeh_is_loading > 0) {\n",
       "      console.log(\"Bokeh: BokehJS is being loaded, scheduling callback at\", now());\n",
       "      return null;\n",
       "    }\n",
       "    if (js_urls == null || js_urls.length === 0) {\n",
       "      run_callbacks();\n",
       "      return null;\n",
       "    }\n",
       "    console.log(\"Bokeh: BokehJS not loaded, scheduling load and callback at\", now());\n",
       "    root._bokeh_is_loading = js_urls.length;\n",
       "    for (var i = 0; i < js_urls.length; i++) {\n",
       "      var url = js_urls[i];\n",
       "      var s = document.createElement('script');\n",
       "      s.src = url;\n",
       "      s.async = false;\n",
       "      s.onreadystatechange = s.onload = function() {\n",
       "        root._bokeh_is_loading--;\n",
       "        if (root._bokeh_is_loading === 0) {\n",
       "          console.log(\"Bokeh: all BokehJS libraries loaded\");\n",
       "          run_callbacks()\n",
       "        }\n",
       "      };\n",
       "      s.onerror = function() {\n",
       "        console.warn(\"failed to load library \" + url);\n",
       "      };\n",
       "      console.log(\"Bokeh: injecting script tag for BokehJS library: \", url);\n",
       "      document.getElementsByTagName(\"head\")[0].appendChild(s);\n",
       "    }\n",
       "  };var element = document.getElementById(\"1001\");\n",
       "  if (element == null) {\n",
       "    console.log(\"Bokeh: ERROR: autoload.js configured with elementid '1001' but no matching script tag was found. \")\n",
       "    return false;\n",
       "  }\n",
       "\n",
       "  var js_urls = [\"https://cdn.pydata.org/bokeh/release/bokeh-1.0.1.min.js\", \"https://cdn.pydata.org/bokeh/release/bokeh-widgets-1.0.1.min.js\", \"https://cdn.pydata.org/bokeh/release/bokeh-tables-1.0.1.min.js\", \"https://cdn.pydata.org/bokeh/release/bokeh-gl-1.0.1.min.js\"];\n",
       "\n",
       "  var inline_js = [\n",
       "    function(Bokeh) {\n",
       "      Bokeh.set_log_level(\"info\");\n",
       "    },\n",
       "    \n",
       "    function(Bokeh) {\n",
       "      \n",
       "    },\n",
       "    function(Bokeh) {\n",
       "      console.log(\"Bokeh: injecting CSS: https://cdn.pydata.org/bokeh/release/bokeh-1.0.1.min.css\");\n",
       "      Bokeh.embed.inject_css(\"https://cdn.pydata.org/bokeh/release/bokeh-1.0.1.min.css\");\n",
       "      console.log(\"Bokeh: injecting CSS: https://cdn.pydata.org/bokeh/release/bokeh-widgets-1.0.1.min.css\");\n",
       "      Bokeh.embed.inject_css(\"https://cdn.pydata.org/bokeh/release/bokeh-widgets-1.0.1.min.css\");\n",
       "      console.log(\"Bokeh: injecting CSS: https://cdn.pydata.org/bokeh/release/bokeh-tables-1.0.1.min.css\");\n",
       "      Bokeh.embed.inject_css(\"https://cdn.pydata.org/bokeh/release/bokeh-tables-1.0.1.min.css\");\n",
       "    }\n",
       "  ];\n",
       "\n",
       "  function run_inline_js() {\n",
       "    \n",
       "    if ((root.Bokeh !== undefined) || (force === true)) {\n",
       "      for (var i = 0; i < inline_js.length; i++) {\n",
       "        inline_js[i].call(root, root.Bokeh);\n",
       "      }if (force === true) {\n",
       "        display_loaded();\n",
       "      }} else if (Date.now() < root._bokeh_timeout) {\n",
       "      setTimeout(run_inline_js, 100);\n",
       "    } else if (!root._bokeh_failed_load) {\n",
       "      console.log(\"Bokeh: BokehJS failed to load within specified timeout.\");\n",
       "      root._bokeh_failed_load = true;\n",
       "    } else if (force !== true) {\n",
       "      var cell = $(document.getElementById(\"1001\")).parents('.cell').data().cell;\n",
       "      cell.output_area.append_execute_result(NB_LOAD_WARNING)\n",
       "    }\n",
       "\n",
       "  }\n",
       "\n",
       "  if (root._bokeh_is_loading === 0) {\n",
       "    console.log(\"Bokeh: BokehJS loaded, going straight to plotting\");\n",
       "    run_inline_js();\n",
       "  } else {\n",
       "    load_libs(js_urls, function() {\n",
       "      console.log(\"Bokeh: BokehJS plotting callback run at\", now());\n",
       "      run_inline_js();\n",
       "    });\n",
       "  }\n",
       "}(window));"
      ],
      "application/vnd.bokehjs_load.v0+json": "\n(function(root) {\n  function now() {\n    return new Date();\n  }\n\n  var force = true;\n\n  if (typeof (root._bokeh_onload_callbacks) === \"undefined\" || force === true) {\n    root._bokeh_onload_callbacks = [];\n    root._bokeh_is_loading = undefined;\n  }\n\n  \n\n  \n  if (typeof (root._bokeh_timeout) === \"undefined\" || force === true) {\n    root._bokeh_timeout = Date.now() + 5000;\n    root._bokeh_failed_load = false;\n  }\n\n  var NB_LOAD_WARNING = {'data': {'text/html':\n     \"<div style='background-color: #fdd'>\\n\"+\n     \"<p>\\n\"+\n     \"BokehJS does not appear to have successfully loaded. If loading BokehJS from CDN, this \\n\"+\n     \"may be due to a slow or bad network connection. Possible fixes:\\n\"+\n     \"</p>\\n\"+\n     \"<ul>\\n\"+\n     \"<li>re-rerun `output_notebook()` to attempt to load from CDN again, or</li>\\n\"+\n     \"<li>use INLINE resources instead, as so:</li>\\n\"+\n     \"</ul>\\n\"+\n     \"<code>\\n\"+\n     \"from bokeh.resources import INLINE\\n\"+\n     \"output_notebook(resources=INLINE)\\n\"+\n     \"</code>\\n\"+\n     \"</div>\"}};\n\n  function display_loaded() {\n    var el = document.getElementById(\"1001\");\n    if (el != null) {\n      el.textContent = \"BokehJS is loading...\";\n    }\n    if (root.Bokeh !== undefined) {\n      if (el != null) {\n        el.textContent = \"BokehJS \" + root.Bokeh.version + \" successfully loaded.\";\n      }\n    } else if (Date.now() < root._bokeh_timeout) {\n      setTimeout(display_loaded, 100)\n    }\n  }\n\n\n  function run_callbacks() {\n    try {\n      root._bokeh_onload_callbacks.forEach(function(callback) { callback() });\n    }\n    finally {\n      delete root._bokeh_onload_callbacks\n    }\n    console.info(\"Bokeh: all callbacks have finished\");\n  }\n\n  function load_libs(js_urls, callback) {\n    root._bokeh_onload_callbacks.push(callback);\n    if (root._bokeh_is_loading > 0) {\n      console.log(\"Bokeh: BokehJS is being loaded, scheduling callback at\", now());\n      return null;\n    }\n    if (js_urls == null || js_urls.length === 0) {\n      run_callbacks();\n      return null;\n    }\n    console.log(\"Bokeh: BokehJS not loaded, scheduling load and callback at\", now());\n    root._bokeh_is_loading = js_urls.length;\n    for (var i = 0; i < js_urls.length; i++) {\n      var url = js_urls[i];\n      var s = document.createElement('script');\n      s.src = url;\n      s.async = false;\n      s.onreadystatechange = s.onload = function() {\n        root._bokeh_is_loading--;\n        if (root._bokeh_is_loading === 0) {\n          console.log(\"Bokeh: all BokehJS libraries loaded\");\n          run_callbacks()\n        }\n      };\n      s.onerror = function() {\n        console.warn(\"failed to load library \" + url);\n      };\n      console.log(\"Bokeh: injecting script tag for BokehJS library: \", url);\n      document.getElementsByTagName(\"head\")[0].appendChild(s);\n    }\n  };var element = document.getElementById(\"1001\");\n  if (element == null) {\n    console.log(\"Bokeh: ERROR: autoload.js configured with elementid '1001' but no matching script tag was found. \")\n    return false;\n  }\n\n  var js_urls = [\"https://cdn.pydata.org/bokeh/release/bokeh-1.0.1.min.js\", \"https://cdn.pydata.org/bokeh/release/bokeh-widgets-1.0.1.min.js\", \"https://cdn.pydata.org/bokeh/release/bokeh-tables-1.0.1.min.js\", \"https://cdn.pydata.org/bokeh/release/bokeh-gl-1.0.1.min.js\"];\n\n  var inline_js = [\n    function(Bokeh) {\n      Bokeh.set_log_level(\"info\");\n    },\n    \n    function(Bokeh) {\n      \n    },\n    function(Bokeh) {\n      console.log(\"Bokeh: injecting CSS: https://cdn.pydata.org/bokeh/release/bokeh-1.0.1.min.css\");\n      Bokeh.embed.inject_css(\"https://cdn.pydata.org/bokeh/release/bokeh-1.0.1.min.css\");\n      console.log(\"Bokeh: injecting CSS: https://cdn.pydata.org/bokeh/release/bokeh-widgets-1.0.1.min.css\");\n      Bokeh.embed.inject_css(\"https://cdn.pydata.org/bokeh/release/bokeh-widgets-1.0.1.min.css\");\n      console.log(\"Bokeh: injecting CSS: https://cdn.pydata.org/bokeh/release/bokeh-tables-1.0.1.min.css\");\n      Bokeh.embed.inject_css(\"https://cdn.pydata.org/bokeh/release/bokeh-tables-1.0.1.min.css\");\n    }\n  ];\n\n  function run_inline_js() {\n    \n    if ((root.Bokeh !== undefined) || (force === true)) {\n      for (var i = 0; i < inline_js.length; i++) {\n        inline_js[i].call(root, root.Bokeh);\n      }if (force === true) {\n        display_loaded();\n      }} else if (Date.now() < root._bokeh_timeout) {\n      setTimeout(run_inline_js, 100);\n    } else if (!root._bokeh_failed_load) {\n      console.log(\"Bokeh: BokehJS failed to load within specified timeout.\");\n      root._bokeh_failed_load = true;\n    } else if (force !== true) {\n      var cell = $(document.getElementById(\"1001\")).parents('.cell').data().cell;\n      cell.output_area.append_execute_result(NB_LOAD_WARNING)\n    }\n\n  }\n\n  if (root._bokeh_is_loading === 0) {\n    console.log(\"Bokeh: BokehJS loaded, going straight to plotting\");\n    run_inline_js();\n  } else {\n    load_libs(js_urls, function() {\n      console.log(\"Bokeh: BokehJS plotting callback run at\", now());\n      run_inline_js();\n    });\n  }\n}(window));"
     },
     "metadata": {},
     "output_type": "display_data"
    }
   ],
   "source": [
    "from bokeh.plotting import figure\n",
    "from bokeh.io import show, output_notebook\n",
    "output_notebook()"
   ]
  },
  {
   "cell_type": "code",
   "execution_count": 4,
   "metadata": {},
   "outputs": [],
   "source": [
    "import ipywidgets as widgets\n",
    "from IPython.display import display"
   ]
  },
  {
   "cell_type": "code",
   "execution_count": 5,
   "metadata": {},
   "outputs": [],
   "source": [
    "!pip install -q tensorflow-gpu==2.0.0-alpha0\n",
    "import tensorflow as tf"
   ]
  },
  {
   "cell_type": "code",
   "execution_count": 6,
   "metadata": {},
   "outputs": [
    {
     "name": "stdout",
     "output_type": "stream",
     "text": [
      "Tensorflow version:  2.0.0-alpha0\n"
     ]
    }
   ],
   "source": [
    "print(\"Tensorflow version: \", tf.__version__)"
   ]
  },
  {
   "cell_type": "code",
   "execution_count": 7,
   "metadata": {},
   "outputs": [],
   "source": [
    "with open('data/data_packed.pickle', 'rb') as f:\n",
    "    data_packed = pickle.load(f)\n",
    "\n",
    "category_map = data_packed['category_map']\n",
    "characters = data_packed['characters']\n",
    "data = data_packed['downloaded']\n",
    "categories = sorted(data.keys())"
   ]
  },
  {
   "cell_type": "code",
   "execution_count": 8,
   "metadata": {},
   "outputs": [
    {
     "name": "stdout",
     "output_type": "stream",
     "text": [
      "Categroies: 124\n",
      "Characters: 104\n"
     ]
    }
   ],
   "source": [
    "print(f\"Categroies: {len(categories)}\")\n",
    "print(f\"Characters: {len(characters)}\")"
   ]
  },
  {
   "cell_type": "code",
   "execution_count": 9,
   "metadata": {},
   "outputs": [],
   "source": [
    "vectorizer = TextVectorizer(characters, categories)"
   ]
  },
  {
   "cell_type": "code",
   "execution_count": 10,
   "metadata": {},
   "outputs": [],
   "source": [
    "SEQUENCE_SIZE = 256\n",
    "BATCH_SIZE = 64"
   ]
  },
  {
   "cell_type": "code",
   "execution_count": 11,
   "metadata": {},
   "outputs": [
    {
     "data": {
      "text/plain": [
       "{'Ghost Fragment: Legends 3': 'After great deliberation it was determined that the Ahamkara be made extinct. \\nIt was not an easy decision. Power had been obtained from the bargains, and the City needed power. Knowledge had been gleaned, and the Ahamkara knew answers to questions no one had known to ask.\\nBut the price was too high. And no edict or forbearance seemed to stop Guardians from seeking them out, driven by hope, or vengeance, or despair.\\nThe call had to be silenced. So the Great Hunt did its work.\\nAnd thus the Ahamkara were made extinct, their call silenced, their solipsistic flatteries erased, their great design - if it ever existed - broken.\\nOf this you can be assured, oh reader mine.␃',\n",
       " 'Ghost Fragment: Warlock': \"Why did I set her on the trail?\\nYou try and try and try to explain, but no one ever understands. No one who's not a Warlock. Who hasn't spent a dozen years scouring the ruins for one string of symbols, one clean code, one black talon. Titans just make a hmphing noise, if they've stayed awake. Hunters clean their nails with their knives and look at you like you've grown a third eye.\\nBut when you've spent your life searching through arcana for ancient power, you have the urge to reach out and educate others. Especially if you've had one too many.\\nNah, she's not my type at all. We've played dice, cards, war games, you know, the usual stuff. I'd never tried to show off before. I don't know what came over me.\\nI had a broken vertebrae in my pocket that I'd borrowed from - yes, borrowed, I was going to put it back - what do you think you are, my conscience? It was a fossil, that means mineral replacement, a rock, basically. They can survive a few hours in my pocket. Do shut up.\\nThe Cryptarchs weren't going to miss it. Everyone knows the Ahamkaras were hunted to extinction. There's nothing to be afraid of anymore.\\nThink of how mysterious this system is, I said. How much life sprang up when the Traveler came. Like the Ahamkara. Do you know the legends? The dragon that made promises? And I pulled out the fossil with a flourish - \\nShe pulled out her knife and started to pick the dirt from her nails. That set me off.\\nYou could never have brought down one of these, I said. Ever. Not the greatest Hunter, not the brawniest Titan.\\nHer eyes narrowed. She said, Oh? Is that so? And I saw right then that she wasn't going to pass on the challenge.\\nI've murdered a Guardian, I thought. She's going to die. It'll be my fault.\\nAnd I looked at the piece of spine in my hand and wondered - why did I say that? What moved me to such pride?␃\",\n",
       " 'Kagoor': 'When I made My Court I said, look, I am an emancipator, I am a truth-teller\\nI must make room in My Court for joy\\nRaising great tribute, I took council with my vanquisher worm\\nIt spoke to me - it was the speech of truth\\nIt ate of me - it was the pact I made\\nIt showed me a shape - it was the correct shape of joy\\nSaying: this is the shape of joy, oh ruler mine\\nCome forth, Kagoor, and be created into My Court\\nSpeak of your sport. I compel it. I will compare it to this shape.\\nSayeth Kagoor, World-Render, who split all moons\\nMy joy is mastery, and dominion\\nIt is the joy of rule\\nSayeth Kagoor, I compel the loyalty of all new flesh\\nHuge and furious in its hunger\\nThat which may not otherwise be commanded\\nMy death is hidden in this sport\\nI rendered my decision against her, as Oryx, Geometer of Shapes\\nIt was decided on the taste of her tribute\\nUpon the shape of her sport\\nSayeth Crota, My Son\\nI will raise new flesh that even Kagoor cannot rule.\\nIn this way I will expand Our Might\\nThat is the count of My Court, O Yul\\nListen to it carefully. It is my claim.␃',\n",
       " 'Lord Gheleon': 'Gheleon wears three knives. Their names are Swiftling, Occam, Quietus. They did much of the work at Black Lona, in silence and at speed.\\nBetween the roots of the ash tree that covers his den, Gheleon has stacked the Fallen bones collected from that one-night operation. The scavenged pieces of an Ahamkara, several jumbled coyote skeletons, and a fossil mastodon skull are mixed in with them. The bones are scorched and battered from the various grenades, bullets, and hammers he\\'s taken to them. He keeps extensive notes on these stress tests in a tattered notebook with \"Field Armor Experiments\" scrawled on its cover. So far, though, he hasn\\'t tried his knives on these materials. Between bones, in the joints and gaps, certainly, but not on them.\\nGheleon flips Swiftling and catches it by the haft. He throws it, a single smooth motion, and it shatters a Fallen tibia.\\nHe flips Occam and throws it. The knife clatters off an Ahamkara vertebra.\\nHe flips Quietus and-\\n\"Shanks and pikes, Efrideet!\"\\n\"Ooh, that\\'s the last yip it\\'s yipped,\" she says, picking up the coyote jaw that Quietus impaled. \"Helmet, would you say?\"\\n\"Too brittle. Etherbone\\'s better. Flexes.\"\\nThe others follow her in, wrinkling their noses. Usually they avoid his dim and earth-smelling den. Their presence suggests that Felwinter is doing something unpleasant, probably involving screams.\\n\"Bone?\" Saladin says. \"Not carbon bronze? Not plasteel?\"\\n\"Bone\\'s always available as a last resort. Nothing else is.\"\\n\"This is doomsday thinking,\" Jolder says, kicking aside fragments of bone. \"We have your back. Our plate is strong. When\\'ll you need scavenged armor?\"\\n\"If all of you were cut down around me, your Light drained past return, and my own armor was shredded. F\\'r instance.\"\\nThere is a long silence.\\n\"You always know what to say to make us feel better,\" Efrideet says.\\n\"I could hide under your bodies until the threat left. Then I\\'d make a helmet from all your skulls and a breastplate from your ribs and gloves from your finger bones wrapped around mine.\"\\nThere is a longer silence.␃',\n",
       " 'Osiris': \"What drives a Warlock to madness?\\nGhosts choose those suited to war and heroism to be reborn. By nature or circumstance they go to battle against the Darkness, and through this battle they learn how to use the Light. But Warlocks, by their nature, fight a second, internal war. This is the war to understand a universe of secrets- a world that expects Guardians to fight without full knowledge of what they are or what they might hope to achieve.\\nYou were a mighty warrior. I watched you at Six Fronts, and heeded the call of Saint-14 to appoint you Vanguard Commander, even when the Concordat claimed to have records proving you were a Golden Age experiment mis-incarnated as a human by an inept Ghost. Saint-14 assured me you were just a man without much patience for obfuscation.\\nI watched as you grew tired of strike missions and the grueling, unproductive sessions with the Cryptarchs. That was when I took you under my wing. I saw our future in you. But your curiosity was voracious- How much of a Guardian's personality and memories were true? How much had been fabricated by their Ghost? Did Guardians share particular personality traits- a willingness to yield to authority, a tendency to do anything anyone asked for the promise of uncertain reward, a blind knight-errant mentality? Had the Traveler manufactured all of you as living weapons?\\nI admit, I found your questions divisive and disloyal, and I feared you might be capable of breaking our unity when the City's position had grown so tenuous. Why divert attention away from the Traveler, our only hope?\\nAnd then it got worse, dabbling in thanatonautics, Ahamkara-lore, chasing after Xur and the tricks of the Nine. Launching expeditions into the Reef and beyond at a time when ships were irreplaceable. Your quest split Guardians along ideological lines. This was your greatest crime: Hunters chose to pursue your visions instead of protecting refugees, Titans assembled teams to chase the legendary Vault of Glass instead of striking the Fallen, and Warlocks turned away from the study of the Traveler in favor of  your  ultimate obsession... learning the exact nature of the Darkness.\\nWhen debate became argument, and argument became acrimony, I realized you had already become a cult of personality, attracting Guardians who wanted a clear idea of why they were fighting, what they faced, and how they would ultimately win.\\nI don't know where you have gone, but I can no longer send Ghosts out to find you. Some come back- with tales of your death or how you went seeking answers from the far reaches of space and time. That you found a way to explore the Vex gate networks. That you've made breakthrough after breakthrough as to their origins- theories that a Guardian could not be simulated, that the Traveler might be an ontoformer or a god-incubator, that the Vex had diverged into multiple groups in order to secure 'an end state for every possible configuration of reality'.\\nI fear you have become as obsessed with the Vex as Toland was with the Hive. I've heard your own insane prophecies about pits and dead Hive kings. And of Crota, which now I cannot deny. \\nI hear stories of Lord Shaxx meeting with fireteams of Warlocks who have no shadow and never blink. Of jumpships slipping into the Reef on cold trajectories and meeting no intercept. Of questions hidden in matter engrams and answers decrypted on distant battlefields. \\nPerhaps you are still out there. If this reaches you, I would very much like to speak with you, to hear your theories in your own words.\\nPerhaps what drives a Warlock to madness is truth.␃\",\n",
       " 'The City Age': \"When did the City Age begin? Perhaps when the bulk of the world's survivors lived beneath the Traveler, rather than in the wilderness. Or when the Titans raised the first wall. Or at Six Fronts, when the City first faced coordinated, overwhelming attack - and repelled it decisively.\\nThe City did not rise without struggle. Warlords and wilderness fiefdoms clung to power. Starvation, disease, and anarchy menaced. But the Guardians held the frontier, and the children of the Golden Age kept the fire burning through the long climb back.\\nLegends walk through this history. The Iron Lords. Saint-14's crusade against the Fallen. The mask of the Speaker. The great Ahamkara Hunt. Toland's madness. Terrible Faction Wars - and the horrifying, disastrous effort to retake the Moon. \\nAs the City learned to walk again, it found a world overrun by alien menace. It faced disaster and defeat. Even in recent years, as Guardians begin to venture back to the Moon and the inner planets, the City's territory has withdrawn - outer sections abandoned and converted into fortifications in the wake of the Battle of Twilight Gap.\\nBut the City's shipwrights and foundries hum with energy. The probability kilns and work cooperatives produce new wonders. The Darkness is rising again. But so is the Light.␃\",\n",
       " 'VIII: Leviathan': \"The Leviathan's Warning\\n++We live on the edge of a war-\\n-a war between Formless and Form++\\n++between the Deep and the Sky-\\n++MY EYES ARE WIDE, MY GAZE IS LONG++\\n-Across the universe, as far as I see++\\n++the Sky works to charge its fires- \\n -and the Deep drowns the ash++\\n-Sky builds gentle places, safe for life++\\n++Beloved Fundament, refuge of trillions-\\n-The Sky treasures this rich place++\\n-BUT THE DEEP IS HERE WITH US-\\n++Cold logic tests our walls-\\n-The Deep claims its dominion++\\n++A ruthless, final age -\\nAurash's Protest\\nOld Leviathan, creature of myth, this world is no refuge. We live short, hard lives. We die in the dark. The storm above us will never end. And soon the God-Wave will take us all. Above us there are only stormjoys, monsters, and moons of apocalypse. Let us go down, down, where we may discover truth, some power to avenge ourselves upon our betrayers, some hope of survival.\\nThe Leviathan's Hope\\n-What power calls you++\\n++Down to the deep?-\\n++What instinct draws you-\\n-Away from high hope?++\\n-Quick-breeding krill people, I tell you++\\n++For eons I have watched your struggle-\\n-Clinging to the sharp edge of survival++\\n++Balanced between the Deep and the Sky.-\\n++You were my treasure-\\n-My proof against despair++\\n-FOR THIS IS THE DEEP CLAIM-\\n++Existence is the struggle to exist-\\n-When the struggle seems lost++\\n++when the safe place crumbles-\\n-everything turns to the Deep to survive++\\n++I REJECT THE DEEP CLAIM++\\n-You will turn back, sweet krill of hope.±±\\n++You will choose the Sky instead.-\\nXi Ro's Protest\\nYou are huge and old! Our lives are short and desperate. If that's the way the world's supposed to be, I won't have it! If people like Taox are supposed to win, I won't let them! I'll beat the world until it changes! I'll kill anything in the way!\\nThe Leviathan's Dirge\\n++This fatal logic++\\n-Hear my monopole scream!-\\n++It will consume you++\\n-Before you lies-\\n++The worship of death++\\n-The ruinous path-\\n++The Sky builds new life++\\n-Against the onset of ruin-\\n++Towards a gentle world++\\n-The Deep embraces death-\\n++Saying: this is inevitable and right++\\n-I exist as hungry ruin-\\n++TURN BACK FROM THE WORLD-KILLING WAY++\\n++OR YOU WILL LIVE AS DEATH AND DEVASTATION++\\n-The Sky is the harder way. But it is kinder.-\\n-My charge is balanced: my voice exhausted.-\\nSathona's Protest\\nSisters, I have my father's familiar. Look! It answers me in plain words. It helped me find this ship. It gives me strength when hope is lost.\\nWho will you trust? The voice that wants us to live and suffer, as we have lived and suffered? The Leviathan that offers no hope against Taox or the world-wave?\\nOr the plain, honest worm?\\nLet us see where its whisper leads us, Aurash. Let us go deeper, Xi Ro!\\nLet us dive, oh sisters mine.␃\",\n",
       " 'V: Needle and Worm': \"My secrets -\\nCarved in my code by Sathona -\\nThe right eye vengeance -\\n  1. This year of wild voyaging, these lightning nights and golden days, these forays into ancient wrecks and windblown flights from monsters: these are the happiest times of my life.\\n  2. I want to be a mother not because I want to spawn but because I want a long life. Long enough to make a difference. We have been at sea a year and I am afraid, afraid we will die out here.\\n  3. I know where to find secrets. I know where vast slow things with long memories live.\\n  4. The needle ship...\\nThe needle ship -\\nCarved in my code by Sathona -\\nA liar -\\n  1. We salvaged the needle from the Shvubi Maelstrom. I knew it would be there.\\n  2. The needle is a gray ship, as long and slender as hope, as unbreakable as time, and old. Older than death. It tumbled through the maelstrom before our ancestors crashed into the Fundament. This is not a sea-ship, like Aurash's. It is an artifact of high technology.\\n  3. I know its purpose. I know what happened to the crew.\\n  4. Xi Ro wants to sell the ship at Kaharn Atoll, where species gather. At auction, it would earn us enough wealth to hire mercenaries. We could retake our Osmium Court and send the baby-eating Helium Drinkers screaming into the ocean -\\n  5. - but I told Xi Ro the ship was worthless.\\n  6. Aurash wants to open the ship and see if we can take command of it. I know this is the right thing to do. I know because I asked the worm...\\nThe worm -\\nCarved in my code by Sathona -\\nWho should be afraid -\\n  1. It was my father's familiar. I ripped it from him as we fled. It is a dead white thing, segmented, washed up from the deep sea.\\n  2. It's dead, but it still speaks to me. It says: listen closely, oh vengeance mine...␃\",\n",
       " \"XLV: I'd shut them all in cells.\": \"Prey and Sacrifice -\\nUttered by Xivu Arath -\\nGod of War -\\nHARMONY. When the Traveler passed across Harmony, it lied to the orbits of ten worlds. Now they orbit the black hole. The Traveler lied to the accretion disc, so that it would give warm light to these worlds.\\nTHE GIFT MAST. When the Traveler left Harmony, it made a monument out of the black hole's polar jet. In the jet there is a hollow mast which sings in radiance. This is the Gift Mast and we will devour it, we will eat the Sky out of it, we will snap it like a bone.\\nTHE HARMONY STING. The Harmony have weaponized their dead star. They can stimulate the accretion disc to fire relativistic plasma jets. We will take the Sting. We will use it to burn their worlds. I will grant one temple of tribute to the first Ascendant to kill a world!\\nORYX. I will have the Gift Mast to feast on! I will have it first! I am Xivu Arath and all war is my temple. Beware the daughters of Oryx, for they make and unmake with ease.\\nSAVATHÛN. The Deceitful Sister will be distracted by arcana and the song of the black hole. Treat her broods with contempt.\\nTHE TRAVELER. We chase it and we will devour it. The Deep will rule the cosmos.\\nTHE DRAGONS. Our gods should be ours alone. Their smug freedom is an insult to me. I'd shut them all in cells. Bring them to me!␃\",\n",
       " 'XLVI: The Gift Mast': 'The Gift Mast!\\nIt towers above this star system like a monument to treason. It beams with silver light. It sings a radio lullaby, made of soothing lies.\\nIn its light live the Harmony, and they are now our prey.\\nNow arrives Xivu Arath, at the head of her armada. She fights the Harmony for fifty years with strategies and discipline. But the Harmony turn to dragon-wishes, and their wishful bishops wrestle Xivu in the ascendant plane.\\nXivu falls into deadlock.\\nNext arrives Savathûn, flanked by her chorus and her celebrants. They trick their way onto Ana-Harmony in disguises, so that they might vivisect these dragons. The Worm our God laughs and laughs.\\nFor a hundred years Savathûn keeps secret covens among the Harmony.\\nBut first of all was Oryx, whose brood grew in secret places in the rubble of the accretion disc. The First Navigator sends rocks and comets to crash into the Harmony worlds, so that the Harmony fleet will be disarrayed. He sends seeders to infiltrate the Harmony worlds with his broods.\\nHere at the center of the fifth book the Hive has grown so mighty that it has made the annihilation of all false life routine.\\nXivu Arath kills the wishful bishops, and Savathûn achieves some secret purpose, and Oryx\\'s Court tears down the Gift Mast. The Harmony people wail in terror, and they throw themselves into the silver lakes of Ana-Harmony to drown.\\n\"Come,\" sayeth Oryx, \"eat of the Gift Mast, for I am a generous god. Of its pieces, I claim only two out of every five.\"\\nThe Mast is full of the Light of the Traveler, it is full of the marrow taste of Sky. All who eat of it are filled with the ecstatic certainty that they serve a great and necessary purpose.\\nThen sayeth Savathûn, \"Siblings, listen, we must part ways a while, so that we may grow different.\" She flies her war-moons into the black hole. Her throne becomes distant.\\nSayeth Xivu Arath, \"King Oryx, you take up too much space, your power constrains too many choices. I must go away from you.\" She flies her war-moons away into the night. Her throne is barred shut.\\nThen Oryx was alone. He spent a while in thought, and those thoughts are recorded here.␃'}"
      ]
     },
     "execution_count": 11,
     "metadata": {},
     "output_type": "execute_result"
    }
   ],
   "source": [
    "data['ahamkara']['cards']"
   ]
  },
  {
   "cell_type": "code",
   "execution_count": 12,
   "metadata": {},
   "outputs": [],
   "source": [
    "dataset = []\n",
    "for category in categories:\n",
    "    for card in data[category]['cards'].values():\n",
    "        item = vectorizer.text_to_array(text=card, category=category)\n",
    "        dataset.append(item)\n",
    "    for entry in data[category]['entries'].values():\n",
    "        item = vectorizer.text_to_array(text=entry, category=category)\n",
    "        dataset.append(item)"
   ]
  },
  {
   "cell_type": "code",
   "execution_count": 13,
   "metadata": {},
   "outputs": [],
   "source": [
    "def embed_data(data):\n",
    "    \"\"\"\n",
    "    Equalizes the length of each sequence is the given data\n",
    "    by appending \"␃\" at the end of shorter entries\n",
    "    \"\"\"\n",
    "    ans = []\n",
    "    max_len = max([len(i) for i in data])\n",
    "    for point in data:\n",
    "        ans.append(vectorizer.repeat_last(point, target_len=max_len))\n",
    "    return np.array(ans)"
   ]
  },
  {
   "cell_type": "code",
   "execution_count": 14,
   "metadata": {},
   "outputs": [
    {
     "data": {
      "text/plain": [
       "\"The Leviathan's Warning\\n++We live on the edge of a war-\\n-a war between Formless and Form++\\n++between the Deep and the Sky-\\n++MY EYES ARE WIDE, MY GAZE IS LONG++\\n-Across the universe, as far as I see++\\n++the Sky works to charge its fires- \\n -and the Deep drowns the ash++\\n-Sky builds gentle places, safe for life++\\n++Beloved Fundament, refuge of trillions-\\n-The Sky treasures this rich place++\\n-BUT THE DEEP IS HERE WITH US-\\n++Cold logic tests our walls-\\n-The Deep claims its dominion++\\n++A ruthless, final age -\\nAurash's Protest\\nOld Leviathan, creature of myth, this world is no refuge. We live short, hard lives. We die in the dark. The storm above us will never end. And soon the God-Wave will take us all. Above us there are only stormjoys, monsters, and moons of apocalypse. Let us go down, down, where we may discover truth, some power to avenge ourselves upon our betrayers, some hope of survival.\\nThe Leviathan's Hope\\n-What power calls you++\\n++Down to the deep?-\\n++What instinct draws you-\\n-Away from high hope?++\\n-Quick-breeding krill people, I tell you++\\n++For eons I have watched your struggle-\\n-Clinging to the sharp edge of survival++\\n++Balanced between the Deep and the Sky.-\\n++You were my treasure-\\n-My proof against despair++\\n-FOR THIS IS THE DEEP CLAIM-\\n++Existence is the struggle to exist-\\n-When the struggle seems lost++\\n++when the safe place crumbles-\\n-everything turns to the Deep to survive++\\n++I REJECT THE DEEP CLAIM++\\n-You will turn back, sweet krill of hope.±±\\n++You will choose the Sky instead.-\\nXi Ro's Protest\\nYou are huge and old! Our lives are short and desperate. If that's the way the world's supposed to be, I won't have it! If people like Taox are supposed to win, I won't let them! I'll beat the world until it changes! I'll kill anything in the way!\\nThe Leviathan's Dirge\\n++This fatal logic++\\n-Hear my monopole scream!-\\n++It will consume you++\\n-Before you lies-\\n++The worship of death++\\n-The ruinous path-\\n++The Sky builds new life++\\n-Against the onset of ruin-\\n++Towards a gentle world++\\n-The Deep embraces death-\\n++Saying: this is inevitable and right++\\n-I exist as hungry ruin-\\n++TURN BACK FROM THE WORLD-KILLING WAY++\\n++OR YOU WILL LIVE AS DEATH AND DEVASTATION++\\n-The Sky is the harder way. But it is kinder.-\\n-My charge is balanced: my voice exhausted.-\\nSathona's Protest\\nSisters, I have my father's familiar. Look! It answers me in plain words. It helped me find this ship. It gives me strength when hope is lost.\\nWho will you trust? The voice that wants us to live and suffer, as we have lived and suffered? The Leviathan that offers no hope against Taox or the world-wave?\\nOr the plain, honest worm?\\nLet us see where its whisper leads us, Aurash. Let us go deeper, Xi Ro!\\nLet us dive, oh sisters mine.␃␃␃␃␃␃␃␃␃␃␃␃␃␃␃␃␃␃␃␃␃␃␃␃␃␃␃␃␃␃␃␃␃␃␃␃␃␃␃␃␃␃␃␃␃␃␃␃␃␃␃␃␃␃␃␃␃␃␃␃␃␃␃␃␃␃␃␃␃␃␃␃␃␃␃␃␃␃␃␃␃␃␃␃␃␃␃␃␃␃␃␃␃␃␃␃␃␃␃␃␃␃␃␃␃␃␃␃␃␃␃␃␃␃␃␃␃␃␃␃␃␃␃␃␃␃␃␃␃␃␃␃␃␃␃␃␃␃␃␃␃␃␃␃␃␃␃␃␃␃␃␃␃␃␃␃␃␃␃␃␃␃␃␃␃␃␃␃␃␃␃␃␃␃␃␃␃␃␃␃␃␃␃␃␃␃␃␃␃␃␃␃␃␃␃␃␃␃␃␃␃␃␃␃␃␃␃␃␃␃␃␃␃␃␃␃␃␃␃␃␃␃␃␃␃␃␃␃␃␃␃␃␃␃␃␃␃␃␃␃␃␃␃␃␃␃␃␃␃␃␃␃␃␃␃␃␃␃␃␃␃␃␃␃␃␃␃␃␃␃␃␃␃␃␃␃␃␃␃␃␃␃␃␃␃␃␃␃␃␃␃␃␃␃␃␃␃␃␃␃␃␃␃␃␃␃␃␃␃␃␃␃␃␃␃␃␃␃␃␃␃␃␃␃␃␃␃␃␃␃␃␃␃␃␃␃␃␃␃␃␃␃␃␃␃␃␃␃␃␃␃␃␃␃␃␃␃␃␃␃␃␃␃␃␃␃␃␃␃␃␃␃␃␃␃␃␃␃␃␃␃␃␃␃␃␃␃␃␃␃␃␃␃␃␃␃␃␃␃␃␃␃␃␃␃␃␃␃␃␃␃␃␃␃␃␃␃␃␃␃␃␃␃␃␃␃␃␃␃␃␃␃␃␃␃␃␃␃␃␃␃␃␃␃␃␃␃␃␃␃␃␃␃␃␃␃␃␃␃␃␃␃␃␃␃␃␃␃␃␃␃␃␃␃␃␃␃␃␃␃␃␃␃␃␃␃␃␃␃␃␃␃␃␃␃␃␃␃␃␃␃␃␃␃␃␃␃␃␃␃␃␃␃␃␃␃␃␃␃␃␃␃␃␃␃␃␃␃␃␃␃␃␃␃␃␃␃␃␃␃␃␃␃␃␃␃␃␃␃␃␃␃␃␃␃␃␃␃␃␃␃␃␃␃␃␃␃␃␃␃␃␃␃␃␃␃␃␃␃␃␃␃␃␃␃␃␃␃␃␃␃␃␃␃␃␃␃␃␃␃␃␃␃␃␃␃␃␃␃␃␃␃␃␃␃␃␃␃␃␃␃␃␃␃␃␃␃␃␃␃␃␃␃␃␃␃␃␃␃␃␃␃␃␃␃␃␃␃␃␃␃␃␃␃␃␃␃␃␃␃␃␃␃␃␃␃␃␃␃␃␃␃␃␃␃␃␃␃␃␃␃␃␃␃␃␃␃␃␃␃␃␃␃␃␃␃␃␃␃␃␃␃␃␃␃␃␃␃␃␃␃␃␃␃␃␃␃␃␃␃␃␃␃␃␃␃␃␃␃␃␃␃␃␃␃␃␃␃␃␃␃␃␃␃␃␃␃␃␃␃␃␃␃␃␃␃␃␃␃␃␃␃␃␃␃␃␃␃␃␃␃␃␃␃␃␃␃␃␃␃␃␃␃␃␃␃␃␃␃␃␃␃␃␃␃␃␃␃␃␃␃␃␃␃␃␃␃␃␃␃␃␃␃␃␃␃␃␃␃␃␃␃␃␃␃␃␃␃␃␃␃␃␃␃␃␃␃␃␃␃␃␃␃␃␃␃␃␃␃\""
      ]
     },
     "execution_count": 14,
     "metadata": {},
     "output_type": "execute_result"
    }
   ],
   "source": [
    "vectorizer.array_to_text(embed_data(dataset[:10])[6])"
   ]
  },
  {
   "cell_type": "code",
   "execution_count": 15,
   "metadata": {},
   "outputs": [
    {
     "name": "stderr",
     "output_type": "stream",
     "text": [
      "WARNING: Logging before flag parsing goes to stderr.\n",
      "W0420 18:16:55.023319  8768 tf_logging.py:161] <tensorflow.python.keras.layers.recurrent.UnifiedLSTM object at 0x00000150E5267A58>: Note that this layer is not optimized for performance. Please use tf.keras.layers.CuDNNLSTM for better performance on GPU.\n",
      "W0420 18:16:55.030318  8768 tf_logging.py:161] <tensorflow.python.keras.layers.recurrent.UnifiedLSTM object at 0x00000150E528A1D0>: Note that this layer is not optimized for performance. Please use tf.keras.layers.CuDNNLSTM for better performance on GPU.\n"
     ]
    }
   ],
   "source": [
    "LSTM1_SIZE = 512\n",
    "LSTM2_SIZE = 1024\n",
    "model = MyModel(LSTM1_units=LSTM1_SIZE,\n",
    "                LSTM2_units=LSTM2_SIZE,\n",
    "                output_size=len(characters))"
   ]
  },
  {
   "cell_type": "code",
   "execution_count": 16,
   "metadata": {},
   "outputs": [],
   "source": [
    "def get_batch(data):\n",
    "    batches = len(data) // BATCH_SIZE\n",
    "    for i in range(batches):\n",
    "        inputs = []\n",
    "        targets = []\n",
    "        batch = data[i*BATCH_SIZE:(i+1)*BATCH_SIZE]\n",
    "        embedded = embed_data(batch)\n",
    "        for single_batch in embedded:\n",
    "            inputs.append(single_batch[:-1])\n",
    "            targets.append(single_batch[1:,:len(characters)])\n",
    "        yield np.array(inputs), np.array(targets)"
   ]
  },
  {
   "cell_type": "code",
   "execution_count": 17,
   "metadata": {},
   "outputs": [],
   "source": [
    "def split_batch_to_sequences(inputs, targets):\n",
    "    \"\"\"\n",
    "    Splits batches into sequences with equal length\n",
    "    NOTE:\n",
    "    Sequences length will be close but not always equal\n",
    "    to SEQUENCE_SIZE\n",
    "    \"\"\"\n",
    "    sequences = np.ceil(len(inputs[0]) / SEQUENCE_SIZE)\n",
    "    inputs_split = np.array_split(inputs, sequences, axis=1)\n",
    "    targets_split = np.array_split(targets, sequences, axis=1)\n",
    "    for input_seq, target_seq in zip(inputs_split, targets_split):\n",
    "        yield input_seq, target_seq"
   ]
  },
  {
   "cell_type": "code",
   "execution_count": 18,
   "metadata": {},
   "outputs": [],
   "source": [
    "x,y = next(get_batch(dataset))"
   ]
  },
  {
   "cell_type": "code",
   "execution_count": 19,
   "metadata": {
    "scrolled": true
   },
   "outputs": [
    {
     "name": "stdout",
     "output_type": "stream",
     "text": [
      "x: (64, 3595, 228)\n",
      "y: (64, 3595, 104)\n"
     ]
    }
   ],
   "source": [
    "print(f\"x: {x.shape}\")\n",
    "print(f\"y: {y.shape}\")"
   ]
  },
  {
   "cell_type": "code",
   "execution_count": 20,
   "metadata": {},
   "outputs": [],
   "source": [
    "x_seq, y_seq = next(split_batch_to_sequences(x,y))"
   ]
  },
  {
   "cell_type": "code",
   "execution_count": 21,
   "metadata": {},
   "outputs": [
    {
     "name": "stdout",
     "output_type": "stream",
     "text": [
      "x_seq: (64, 240, 228)\n",
      "y_seq: (64, 240, 104)\n"
     ]
    }
   ],
   "source": [
    "print(f\"x_seq: {x_seq.shape}\")\n",
    "print(f\"y_seq: {y_seq.shape}\")"
   ]
  },
  {
   "cell_type": "code",
   "execution_count": 22,
   "metadata": {},
   "outputs": [
    {
     "name": "stdout",
     "output_type": "stream",
     "text": [
      "Input:\t'After great deliberation it was determined that the Ahamkara be made extinct. \\nIt was not an easy decision. Power had been obtained from the bargains, and the City needed power. Knowledge had been gleaned, and the Ahamkara knew answers to q'\n",
      "Target:\t'fter great deliberation it was determined that the Ahamkara be made extinct. \\nIt was not an easy decision. Power had been obtained from the bargains, and the City needed power. Knowledge had been gleaned, and the Ahamkara knew answers to qu'\n",
      "\n"
     ]
    }
   ],
   "source": [
    "print(f\"Input:\\t{repr(vectorizer.array_to_text(x_seq[0]))}\")\n",
    "print(f\"Target:\\t{repr(vectorizer.array_to_text(y_seq[0]))}\\n\")"
   ]
  },
  {
   "cell_type": "code",
   "execution_count": 31,
   "metadata": {
    "raw_mimetype": "text/x-python"
   },
   "outputs": [
    {
     "data": {
      "text/plain": [
       "'wêww999rrrrrrrrrr99999999}}}}9999999i99}}}}}}}tttii999999ttttwwt9ttttttttt}}iiiiiiii9999wwwwwwwwwwwtt}i999999}999999}}}}ttt}tttttttttt}}}}}}9}ttttttww99wwtttt}}}99}}}ttiiii}}i}}}}}}}}wwww999tttttttttttttttttttttttt99999ttwwwwwwwwwwwwwww9iii'"
      ]
     },
     "execution_count": 31,
     "metadata": {},
     "output_type": "execute_result"
    }
   ],
   "source": [
    "# model needs to run on some data before it can be summarized\n",
    "vectorizer.array_to_text(model(x_seq)[0].numpy())"
   ]
  },
  {
   "cell_type": "code",
   "execution_count": 25,
   "metadata": {
    "scrolled": true
   },
   "outputs": [
    {
     "name": "stdout",
     "output_type": "stream",
     "text": [
      "Model: \"my_model\"\n",
      "_________________________________________________________________\n",
      "Layer (type)                 Output Shape              Param #   \n",
      "=================================================================\n",
      "unified_lstm (UnifiedLSTM)   multiple                  1517568   \n",
      "_________________________________________________________________\n",
      "unified_lstm_1 (UnifiedLSTM) multiple                  6295552   \n",
      "_________________________________________________________________\n",
      "dense (Dense)                multiple                  106600    \n",
      "=================================================================\n",
      "Total params: 7,919,720\n",
      "Trainable params: 7,919,720\n",
      "Non-trainable params: 0\n",
      "_________________________________________________________________\n"
     ]
    }
   ],
   "source": [
    "model.summary()"
   ]
  },
  {
   "cell_type": "code",
   "execution_count": 26,
   "metadata": {},
   "outputs": [],
   "source": [
    "if not os.path.exists(\"checkpoints/\"):\n",
    "    os.makedirs(\"checkpoints/\")"
   ]
  },
  {
   "cell_type": "code",
   "execution_count": 27,
   "metadata": {},
   "outputs": [],
   "source": [
    "OPTIMIZER = tf.optimizers.Nadam(learning_rate=0.001, beta_2=0.9999, epsilon=0.1)\n",
    "LOSS = tf.losses.categorical_crossentropy\n",
    "EPOCHS = 50\n",
    "DROPOUT_RATE = 0.3\n",
    "CHECKPOINT_FORMAT = \"checkpoints/Nadam{epoch}.ckpt\" "
   ]
  },
  {
   "cell_type": "code",
   "execution_count": 28,
   "metadata": {},
   "outputs": [],
   "source": [
    "def single_train_step(inputs, targets):\n",
    "    with tf.device(\"/device:GPU:0\"):\n",
    "        with tf.GradientTape() as tape:\n",
    "            preds = model(inputs=inputs, remember=True, dropout_rate=DROPOUT_RATE)\n",
    "            loss = LOSS(targets, preds)\n",
    "        grads = tape.gradient(loss, model.trainable_variables)\n",
    "        OPTIMIZER.apply_gradients(zip(grads, model.trainable_variables))\n",
    "        return loss"
   ]
  },
  {
   "cell_type": "code",
   "execution_count": 103,
   "metadata": {
    "scrolled": false
   },
   "outputs": [
    {
     "name": "stdout",
     "output_type": "stream",
     "text": [
      "Epoch 1 finished!\tTime: 714s per epoch\tAverage loss: 1.2793\n",
      "Epoch 2 finished!\tTime: 719s per epoch\tAverage loss: 0.8622\n",
      "Epoch 3 finished!\tTime: 664s per epoch\tAverage loss: 0.7301\n",
      "Epoch 4 finished!\tTime: 690s per epoch\tAverage loss: 0.6052\n",
      "Epoch 5 finished!\tTime: 687s per epoch\tAverage loss: 0.5540\n",
      "Epoch 6 finished!\tTime: 686s per epoch\tAverage loss: 0.5116\n",
      "Epoch 7 finished!\tTime: 665s per epoch\tAverage loss: 0.4928\n",
      "Epoch 8 finished!\tTime: 691s per epoch\tAverage loss: 0.4440\n",
      "Epoch 9 finished!\tTime: 654s per epoch\tAverage loss: 0.4447\n",
      "Epoch 10 finished!\tTime: 681s per epoch\tAverage loss: 0.4018\n",
      "Epoch 11 finished!\tTime: 659s per epoch\tAverage loss: 0.3949\n",
      "Epoch 12 finished!\tTime: 660s per epoch\tAverage loss: 0.3880\n",
      "Epoch 13 finished!\tTime: 674s per epoch\tAverage loss: 0.3669\n",
      "Epoch 14 finished!\tTime: 676s per epoch\tAverage loss: 0.3501\n",
      "Epoch 15 finished!\tTime: 672s per epoch\tAverage loss: 0.3457\n",
      "Epoch 16 finished!\tTime: 673s per epoch\tAverage loss: 0.3353\n",
      "Epoch 17 finished!\tTime: 655s per epoch\tAverage loss: 0.3225\n",
      "Epoch 18 finished!\tTime: 657s per epoch\tAverage loss: 0.3220\n",
      "Epoch 19 finished!\tTime: 641s per epoch\tAverage loss: 0.3136\n",
      "Epoch 20 finished!\tTime: 648s per epoch\tAverage loss: 0.3121\n",
      "Epoch 21 finished!\tTime: 649s per epoch\tAverage loss: 0.3032\n",
      "Epoch 22 finished!\tTime: 633s per epoch\tAverage loss: 0.2959\n",
      "Epoch 23 finished!\tTime: 653s per epoch\tAverage loss: 0.2910\n",
      "Epoch 24 finished!\tTime: 648s per epoch\tAverage loss: 0.2825\n",
      "Epoch 25 finished!\tTime: 648s per epoch\tAverage loss: 0.2703\n",
      "Epoch 26 finished!\tTime: 637s per epoch\tAverage loss: 0.2668\n",
      "Epoch 27 finished!\tTime: 611s per epoch\tAverage loss: 0.2627\n",
      "Epoch 28 finished!\tTime: 660s per epoch\tAverage loss: 0.2467\n",
      "Epoch 29 finished!\tTime: 639s per epoch\tAverage loss: 0.2478\n",
      "Epoch 30 finished!\tTime: 644s per epoch\tAverage loss: 0.2430\n",
      "Epoch 31 finished!\tTime: 623s per epoch\tAverage loss: 0.2387\n",
      "Epoch 32 finished!\tTime: 654s per epoch\tAverage loss: 0.2296\n",
      "Epoch 33 finished!\tTime: 645s per epoch\tAverage loss: 0.2265\n",
      "Epoch 34 finished!\tTime: 670s per epoch\tAverage loss: 0.2212\n",
      "Epoch 35 finished!\tTime: 671s per epoch\tAverage loss: 0.2182\n",
      "Epoch 36 finished!\tTime: 682s per epoch\tAverage loss: 0.2123\n",
      "Epoch 37 finished!\tTime: 708s per epoch\tAverage loss: 0.2017\n",
      "Epoch 38 finished!\tTime: 646s per epoch\tAverage loss: 0.2155\n",
      "Epoch 39 finished!\tTime: 688s per epoch\tAverage loss: 0.1995\n",
      "Epoch 40 finished!\tTime: 682s per epoch\tAverage loss: 0.1965\n",
      "Epoch 41 finished!\tTime: 683s per epoch\tAverage loss: 0.1936\n",
      "Epoch 42 finished!\tTime: 670s per epoch\tAverage loss: 0.1929\n",
      "Epoch 43 finished!\tTime: 678s per epoch\tAverage loss: 0.1870\n",
      "Epoch 44 finished!\tTime: 665s per epoch\tAverage loss: 0.1885\n",
      "Epoch 45 finished!\tTime: 669s per epoch\tAverage loss: 0.1848\n",
      "Epoch 46 finished!\tTime: 678s per epoch\tAverage loss: 0.1793\n",
      "Epoch 47 finished!\tTime: 662s per epoch\tAverage loss: 0.1804\n",
      "Epoch 48 finished!\tTime: 657s per epoch\tAverage loss: 0.1777\n",
      "Epoch 49 finished!\tTime: 687s per epoch\tAverage loss: 0.1683\n",
      "Epoch 50 finished!\tTime: 662s per epoch\tAverage loss: 0.1733\n"
     ]
    }
   ],
   "source": [
    "history = []\n",
    "for epoch in range(1, EPOCHS+1):\n",
    "    np.random.shuffle(dataset)\n",
    "    epoch_start = time()\n",
    "    \n",
    "    losses = []\n",
    "    num_batches = len(dataset) // BATCH_SIZE\n",
    "\n",
    "    for batch_num, (inputs, targets) in enumerate(get_batch(dataset), 1):\n",
    "        model.forget()  # reset states\n",
    "        batch_start = time()\n",
    "        num_sequences = int(np.ceil(len(inputs[0]) / SEQUENCE_SIZE))\n",
    "        for (sequence_num,\n",
    "            (input_sequence,\n",
    "            target_sequence)) in enumerate(split_batch_to_sequences(inputs, targets), 1):\n",
    "    \n",
    "            loss = single_train_step(input_sequence, target_sequence)\n",
    "            print(f\"Epoch {epoch}/{EPOCHS}\\t\"\n",
    "                  f\"Batch {batch_num}/{num_batches}\\t\"\n",
    "                  f\"Sequence {sequence_num}/{num_sequences}\\t\"\n",
    "                  f\"Loss {loss.numpy().mean():.4f}\", end='\\r')\n",
    "            losses.append(loss.numpy().mean())\n",
    "\n",
    "    print(f\"Epoch {epoch} finished!\\t\"\n",
    "          f\"Time: {time()-epoch_start:.0f}s per epoch\\t\"\n",
    "          f\"Average loss: {np.mean(losses):.4f}\")\n",
    "    history.append(losses)\n",
    "    model.save_weights(CHECKPOINT_FORMAT.format(epoch=epoch))"
   ]
  },
  {
   "cell_type": "code",
   "execution_count": 104,
   "metadata": {
    "scrolled": false
   },
   "outputs": [
    {
     "data": {
      "text/html": [
       "\n",
       "\n",
       "\n",
       "\n",
       "\n",
       "\n",
       "  <div class=\"bk-root\" id=\"98af0492-5c7f-41bb-a132-03cd9bf08ba5\"></div>\n"
      ]
     },
     "metadata": {},
     "output_type": "display_data"
    },
    {
     "data": {
      "application/javascript": [
       "(function(root) {\n",
       "  function embed_document(root) {\n",
       "    \n",
       "  var docs_json = {\"a8834a8b-e9af-4dcf-a3e3-d441357a1772\":{\"roots\":{\"references\":[{\"attributes\":{\"below\":[{\"id\":\"1012\",\"type\":\"LinearAxis\"}],\"left\":[{\"id\":\"1017\",\"type\":\"LinearAxis\"}],\"renderers\":[{\"id\":\"1012\",\"type\":\"LinearAxis\"},{\"id\":\"1016\",\"type\":\"Grid\"},{\"id\":\"1017\",\"type\":\"LinearAxis\"},{\"id\":\"1021\",\"type\":\"Grid\"},{\"id\":\"1030\",\"type\":\"BoxAnnotation\"},{\"id\":\"1049\",\"type\":\"Legend\"},{\"id\":\"1040\",\"type\":\"GlyphRenderer\"}],\"title\":{\"id\":\"1042\",\"type\":\"Title\"},\"toolbar\":{\"id\":\"1028\",\"type\":\"Toolbar\"},\"x_range\":{\"id\":\"1004\",\"type\":\"DataRange1d\"},\"x_scale\":{\"id\":\"1008\",\"type\":\"LinearScale\"},\"y_range\":{\"id\":\"1006\",\"type\":\"DataRange1d\"},\"y_scale\":{\"id\":\"1010\",\"type\":\"LinearScale\"}},\"id\":\"1003\",\"subtype\":\"Figure\",\"type\":\"Plot\"},{\"attributes\":{\"line_color\":\"blue\",\"x\":{\"field\":\"x\"},\"y\":{\"field\":\"y\"}},\"id\":\"1038\",\"type\":\"Line\"},{\"attributes\":{\"bottom_units\":\"screen\",\"fill_alpha\":{\"value\":0.5},\"fill_color\":{\"value\":\"lightgrey\"},\"left_units\":\"screen\",\"level\":\"overlay\",\"line_alpha\":{\"value\":1.0},\"line_color\":{\"value\":\"black\"},\"line_dash\":[4,4],\"line_width\":{\"value\":2},\"plot\":null,\"render_mode\":\"css\",\"right_units\":\"screen\",\"top_units\":\"screen\"},\"id\":\"1030\",\"type\":\"BoxAnnotation\"},{\"attributes\":{},\"id\":\"1010\",\"type\":\"LinearScale\"},{\"attributes\":{\"formatter\":{\"id\":\"1044\",\"type\":\"BasicTickFormatter\"},\"plot\":{\"id\":\"1003\",\"subtype\":\"Figure\",\"type\":\"Plot\"},\"ticker\":{\"id\":\"1018\",\"type\":\"BasicTicker\"}},\"id\":\"1017\",\"type\":\"LinearAxis\"},{\"attributes\":{\"line_alpha\":0.1,\"line_color\":\"#1f77b4\",\"x\":{\"field\":\"x\"},\"y\":{\"field\":\"y\"}},\"id\":\"1039\",\"type\":\"Line\"},{\"attributes\":{\"callback\":null},\"id\":\"1006\",\"type\":\"DataRange1d\"},{\"attributes\":{},\"id\":\"1013\",\"type\":\"BasicTicker\"},{\"attributes\":{\"label\":{\"value\":\"Loss\"},\"renderers\":[{\"id\":\"1040\",\"type\":\"GlyphRenderer\"}]},\"id\":\"1050\",\"type\":\"LegendItem\"},{\"attributes\":{},\"id\":\"1023\",\"type\":\"WheelZoomTool\"},{\"attributes\":{\"plot\":{\"id\":\"1003\",\"subtype\":\"Figure\",\"type\":\"Plot\"},\"ticker\":{\"id\":\"1013\",\"type\":\"BasicTicker\"}},\"id\":\"1016\",\"type\":\"Grid\"},{\"attributes\":{\"formatter\":{\"id\":\"1046\",\"type\":\"BasicTickFormatter\"},\"plot\":{\"id\":\"1003\",\"subtype\":\"Figure\",\"type\":\"Plot\"},\"ticker\":{\"id\":\"1013\",\"type\":\"BasicTicker\"}},\"id\":\"1012\",\"type\":\"LinearAxis\"},{\"attributes\":{},\"id\":\"1046\",\"type\":\"BasicTickFormatter\"},{\"attributes\":{\"items\":[{\"id\":\"1050\",\"type\":\"LegendItem\"}],\"plot\":{\"id\":\"1003\",\"subtype\":\"Figure\",\"type\":\"Plot\"}},\"id\":\"1049\",\"type\":\"Legend\"},{\"attributes\":{},\"id\":\"1058\",\"type\":\"UnionRenderers\"},{\"attributes\":{\"plot\":null,\"text\":\"\"},\"id\":\"1042\",\"type\":\"Title\"},{\"attributes\":{\"source\":{\"id\":\"1037\",\"type\":\"ColumnDataSource\"}},\"id\":\"1041\",\"type\":\"CDSView\"},{\"attributes\":{},\"id\":\"1022\",\"type\":\"PanTool\"},{\"attributes\":{},\"id\":\"1025\",\"type\":\"SaveTool\"},{\"attributes\":{},\"id\":\"1044\",\"type\":\"BasicTickFormatter\"},{\"attributes\":{\"data_source\":{\"id\":\"1037\",\"type\":\"ColumnDataSource\"},\"glyph\":{\"id\":\"1038\",\"type\":\"Line\"},\"hover_glyph\":null,\"muted_glyph\":null,\"nonselection_glyph\":{\"id\":\"1039\",\"type\":\"Line\"},\"selection_glyph\":null,\"view\":{\"id\":\"1041\",\"type\":\"CDSView\"}},\"id\":\"1040\",\"type\":\"GlyphRenderer\"},{\"attributes\":{\"callback\":null},\"id\":\"1004\",\"type\":\"DataRange1d\"},{\"attributes\":{},\"id\":\"1026\",\"type\":\"ResetTool\"},{\"attributes\":{},\"id\":\"1059\",\"type\":\"Selection\"},{\"attributes\":{\"dimension\":1,\"plot\":{\"id\":\"1003\",\"subtype\":\"Figure\",\"type\":\"Plot\"},\"ticker\":{\"id\":\"1018\",\"type\":\"BasicTicker\"}},\"id\":\"1021\",\"type\":\"Grid\"},{\"attributes\":{\"active_drag\":\"auto\",\"active_inspect\":\"auto\",\"active_multi\":null,\"active_scroll\":\"auto\",\"active_tap\":\"auto\",\"tools\":[{\"id\":\"1022\",\"type\":\"PanTool\"},{\"id\":\"1023\",\"type\":\"WheelZoomTool\"},{\"id\":\"1024\",\"type\":\"BoxZoomTool\"},{\"id\":\"1025\",\"type\":\"SaveTool\"},{\"id\":\"1026\",\"type\":\"ResetTool\"},{\"id\":\"1027\",\"type\":\"HelpTool\"}]},\"id\":\"1028\",\"type\":\"Toolbar\"},{\"attributes\":{},\"id\":\"1027\",\"type\":\"HelpTool\"},{\"attributes\":{},\"id\":\"1018\",\"type\":\"BasicTicker\"},{\"attributes\":{\"callback\":null,\"data\":{\"x\":[0,1,2,3,4,5,6,7,8,9,10,11,12,13,14,15,16,17,18,19,20,21,22,23,24,25,26,27,28,29,30,31,32,33,34,35,36,37,38,39,40,41,42,43,44,45,46,47,48,49],\"y\":[1.2792584896087646,0.8622177839279175,0.7300715446472168,0.6052480936050415,0.5540173649787903,0.5116429924964905,0.4928279519081116,0.44397804141044617,0.4446811079978943,0.4018012583255768,0.39491909742355347,0.38799917697906494,0.3668767213821411,0.3501303791999817,0.345749169588089,0.335268497467041,0.3224545121192932,0.3219793438911438,0.3135542869567871,0.312137246131897,0.30320873856544495,0.295943945646286,0.291045606136322,0.2825450897216797,0.2703063488006592,0.26676321029663086,0.2626817524433136,0.24670621752738953,0.2478289008140564,0.24295425415039062,0.2386627197265625,0.2296198010444641,0.22653143107891083,0.22119887173175812,0.2182401716709137,0.21227242052555084,0.20167526602745056,0.2155381590127945,0.1995411515235901,0.19650249183177948,0.1936008781194687,0.19290906190872192,0.1870347112417221,0.18851929903030396,0.18480642139911652,0.17933042347431183,0.18041881918907166,0.17768992483615875,0.1682971864938736,0.17326544225215912]},\"selected\":{\"id\":\"1059\",\"type\":\"Selection\"},\"selection_policy\":{\"id\":\"1058\",\"type\":\"UnionRenderers\"}},\"id\":\"1037\",\"type\":\"ColumnDataSource\"},{\"attributes\":{\"overlay\":{\"id\":\"1030\",\"type\":\"BoxAnnotation\"}},\"id\":\"1024\",\"type\":\"BoxZoomTool\"},{\"attributes\":{},\"id\":\"1008\",\"type\":\"LinearScale\"}],\"root_ids\":[\"1003\"]},\"title\":\"Bokeh Application\",\"version\":\"1.0.1\"}};\n",
       "  var render_items = [{\"docid\":\"a8834a8b-e9af-4dcf-a3e3-d441357a1772\",\"roots\":{\"1003\":\"98af0492-5c7f-41bb-a132-03cd9bf08ba5\"}}];\n",
       "  root.Bokeh.embed.embed_items_notebook(docs_json, render_items);\n",
       "\n",
       "  }\n",
       "  if (root.Bokeh !== undefined) {\n",
       "    embed_document(root);\n",
       "  } else {\n",
       "    var attempts = 0;\n",
       "    var timer = setInterval(function(root) {\n",
       "      if (root.Bokeh !== undefined) {\n",
       "        embed_document(root);\n",
       "        clearInterval(timer);\n",
       "      }\n",
       "      attempts++;\n",
       "      if (attempts > 100) {\n",
       "        console.log(\"Bokeh: ERROR: Unable to run BokehJS code because BokehJS library is missing\");\n",
       "        clearInterval(timer);\n",
       "      }\n",
       "    }, 10, root)\n",
       "  }\n",
       "})(window);"
      ],
      "application/vnd.bokehjs_exec.v0+json": ""
     },
     "metadata": {
      "application/vnd.bokehjs_exec.v0+json": {
       "id": "1003"
      }
     },
     "output_type": "display_data"
    }
   ],
   "source": [
    "fig = figure()\n",
    "\n",
    "history_avg = [np.mean(i) for i in history]\n",
    "X = range(len(history_avg))\n",
    "Y = history_avg\n",
    "\n",
    "fig.line(X,Y, legend=\"Loss\", color=\"blue\")\n",
    "\n",
    "show(fig)"
   ]
  }
 ],
 "metadata": {
  "celltoolbar": "Raw Cell Format",
  "kernelspec": {
   "display_name": "Python 3",
   "language": "python",
   "name": "python3"
  },
  "language_info": {
   "codemirror_mode": {
    "name": "ipython",
    "version": 3
   },
   "file_extension": ".py",
   "mimetype": "text/x-python",
   "name": "python",
   "nbconvert_exporter": "python",
   "pygments_lexer": "ipython3",
   "version": "3.6.6"
  }
 },
 "nbformat": 4,
 "nbformat_minor": 2
}
