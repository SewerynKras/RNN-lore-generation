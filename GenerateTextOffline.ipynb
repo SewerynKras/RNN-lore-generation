{
 "cells": [
  {
   "cell_type": "code",
   "execution_count": 1,
   "metadata": {},
   "outputs": [],
   "source": [
    "from helpers import TextGenerator, create_default_vectorizer\n",
    "from model import MyModel"
   ]
  },
  {
   "cell_type": "code",
   "execution_count": 2,
   "metadata": {},
   "outputs": [],
   "source": [
    "!pip install -q tensorflow-gpu==2.0.0-alpha0\n",
    "import tensorflow as tf\n",
    "assert tf.__version__ == '2.0.0-alpha0'"
   ]
  },
  {
   "cell_type": "code",
   "execution_count": 3,
   "metadata": {},
   "outputs": [],
   "source": [
    "vectorizer = create_default_vectorizer()"
   ]
  },
  {
   "cell_type": "code",
   "execution_count": 26,
   "metadata": {},
   "outputs": [
    {
     "name": "stderr",
     "output_type": "stream",
     "text": [
      "W0429 15:22:00.386615 21904 tf_logging.py:161] <tensorflow.python.keras.layers.recurrent.UnifiedLSTM object at 0x000001CBA84CAB38>: Note that this layer is not optimized for performance. Please use tf.keras.layers.CuDNNLSTM for better performance on GPU.\n",
      "W0429 15:22:00.394616 21904 tf_logging.py:161] <tensorflow.python.keras.layers.recurrent.UnifiedLSTM object at 0x000001CBA7D10DD8>: Note that this layer is not optimized for performance. Please use tf.keras.layers.CuDNNLSTM for better performance on GPU.\n"
     ]
    },
    {
     "data": {
      "text/plain": [
       "<tensorflow.python.training.tracking.util.CheckpointLoadStatus at 0x1cba7d06128>"
      ]
     },
     "execution_count": 26,
     "metadata": {},
     "output_type": "execute_result"
    }
   ],
   "source": [
    "model = MyModel(LSTM1_units=256, LSTM2_units=1024, output_size=vectorizer._NUM_CHARS)\n",
    "model.load_weights(\"checkpoints/epoch60.ckpt\")"
   ]
  },
  {
   "cell_type": "code",
   "execution_count": 27,
   "metadata": {},
   "outputs": [],
   "source": [
    "generator = TextGenerator(model, vectorizer)"
   ]
  },
  {
   "cell_type": "code",
   "execution_count": 28,
   "metadata": {},
   "outputs": [],
   "source": [
    "category = \"queen-mara-sov\"\n",
    "start_str = \"The plan \"\n",
    "character_limit = 10000\n",
    "bias = [0.0, 0.01, 0.01]"
   ]
  },
  {
   "cell_type": "code",
   "execution_count": 29,
   "metadata": {},
   "outputs": [
    {
     "name": "stdout",
     "output_type": "stream",
     "text": [
      "The plan of Oryx's throne world is something more... the whole solar system groans with her way onto the only light. Where they were reaching from which they find a way to believe in the first wall. Or the time we say what the fire is something something markerers. \n",
      "And all the way it was an extendion. The one who leads their word to the garden and the sky in the song, and sit out at the with to the ship, the wall things they will do in his sine. The silence between the light will doe, but it stared and find the worlds with a burst of heroing and faster from inside on the first of the world and ship into the shadows behind him, the will mesting before the Hive put her people as steady her final goes, and the ship was sometimes. The thought soons straight his theore who found a time they will stand for their first and her chest like a show of his hones.\n",
      "Jaren said to his Rasputin. He can see his wellow. He has never been a see a result of sound secent long and slaw driving harded by silence.\n",
      "A shadow in her heart, and the way they had been burned into the night, and the world has got their hands reached to the prince. The Fire was built back to the wild. On of the first wall again, the mind of the room as he saw as the first power over the mists of Secrets have some secret warlings, however, they are no longer shank. The tanges were like a broken world. She thought had to be true from within.\n",
      "The silence for death was the only ones who was a sertant more different. \n",
      "He seemed now, to see the strangert that the might have been extinced by the material space. And we stand against the surface of the wilderness. To were we found the help of his own feelings. Hundreds was a little build to stepped. And she was a lead on its blade, and the massive sat his promen death his believen she had a place for a long time.\n",
      "The secret would said the Hive of her brother was a force had been within the silence and the whole solar system broken through the call of Variks of the worst of the screen. The rack of the real pare a second hull. The while it is bladed by the transmission to horror and held out into the real of her own protection and set there armara discovered back to the horizon. The man who called herself again, into the first stin. The silence of the world has been burned awaited on soon into the crowded hands of a stretched and slaw and clamped and calls her a collection that is the way of Warlocks searching their hidden paths.  At night, let them come into the crowd, and the will of their sharp was transformed. When the Traveler's shoulders here was only one path to find a world to call in the massive way to his helmet. The battle of the world well as defending the weapon stood on the distance of the world that had been sure he seed to win death what his headt was a long time.\n",
      "What is the only had brought in this confident sull whither in the mad andwiran, he could not be true. The man with the help in the need to the world to call its henged and beloved har to speak the harmory for the walls, and he saw the others would not return.\n",
      "The warlords had been looking for many sit at the battle of a shadow of a crassing people and that strange their preyants and prepare them all they were all the way out of their breathing. The Warlocks of the City have seen the Queen was a restlaced thing. What was the wild of Oryx, the Sangtine, who was not fortore. With the Gift Mast, the Hive and Petra and the others in the means of the House of Wolves. She went out to the horror and the way they want a second.␃"
     ]
    }
   ],
   "source": [
    "print(start_str, end='')\n",
    "\n",
    "for char in generator.generate(start_str=start_str,\n",
    "                               category=category,\n",
    "                               char_limit=character_limit,\n",
    "                               bias=bias):\n",
    "    print(char, end='')"
   ]
  }
 ],
 "metadata": {
  "kernelspec": {
   "display_name": "Python 3",
   "language": "python",
   "name": "python3"
  },
  "language_info": {
   "codemirror_mode": {
    "name": "ipython",
    "version": 3
   },
   "file_extension": ".py",
   "mimetype": "text/x-python",
   "name": "python",
   "nbconvert_exporter": "python",
   "pygments_lexer": "ipython3",
   "version": "3.6.6"
  }
 },
 "nbformat": 4,
 "nbformat_minor": 2
}
